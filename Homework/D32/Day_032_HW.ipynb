{
 "cells": [
  {
   "cell_type": "markdown",
   "metadata": {},
   "source": [
    "## 練習時間\n",
    "相信大家目前都能夠初步了解機器學習專案的流程及步驟，今天的作業希望大家能夠看看全球機器學習巨頭們在做的機器學習專案。以 google 為例，下圖是 Google 內部專案使用機器學習的數量，隨著時間進展，現在早已超過 2000 個專案在使用 ML。"
   ]
  },
  {
   "cell_type": "markdown",
   "metadata": {},
   "source": [
    "![image](https://cdn-images-1.medium.com/max/800/1*U_L8qI8RmYS-MOBrYvXhSA.png)"
   ]
  },
  {
   "cell_type": "markdown",
   "metadata": {},
   "source": [
    "底下幫同學整理幾間知名企業的 blog 或機器學習網站 (自行搜尋也可)，請挑選一篇文章閱讀並試著回答\n",
    "1. 專案的目標？ (要解決什麼問題）\n",
    "2. 使用的技術是？ (只需知道名稱即可，例如：使用 CNN 卷積神經網路做影像分類)\n",
    "3. 資料來源？ "
   ]
  },
  {
   "cell_type": "markdown",
   "metadata": {},
   "source": [
    "- [Google AI blog](https://ai.googleblog.com/)\n",
    "- [Facebook Research blog](https://research.fb.com/blog/)\n",
    "- [Apple machine learning journal](https://machinelearning.apple.com/)\n",
    "- [機器之心](https://www.jiqizhixin.com/)\n",
    "- [雷鋒網](http://www.leiphone.com/category/ai)"
   ]
  },
  {
   "cell_type": "markdown",
   "metadata": {},
   "source": [
    "來源 : 【雷鋒網】https://www.leiphone.com/news/201901/YZUq3paf3OfuXsax.html\n",
    "標題 : 用 AI 来实现精神疾病诊断、视频测谎？人大 ML 研究组开发了一位 AI 读心师\n",
    "\n",
    "### 1. 專案的目標？\n",
    "进行心理健康分析、个人信用评估、五重性格测试等，可应用于银行面签、法庭庭审、公司面试等多个场景。\n",
    "\n",
    "### 2. 使用的技術是？\n",
    "1. 人脸检测 ==> 多任务级联卷积神经网络 MTCNN\n",
    "2. 心理健康测评 ==> InceptionV3 预训练, SVM 分类器\n",
    "3. 个人信用分析 ==> ResNet34 预训练\n",
    "4. 五重性格评估 ==> ResNet34 预训练\n",
    "\n",
    "### 3. 資料來源？\n",
    "心理健康测试方面 => 某高中一年级 1200 余名学生的信息"
   ]
  }
 ],
 "metadata": {
  "kernelspec": {
   "display_name": "Python 3",
   "language": "python",
   "name": "python3"
  },
  "language_info": {
   "codemirror_mode": {
    "name": "ipython",
    "version": 3
   },
   "file_extension": ".py",
   "mimetype": "text/x-python",
   "name": "python",
   "nbconvert_exporter": "python",
   "pygments_lexer": "ipython3",
   "version": "3.7.1"
  }
 },
 "nbformat": 4,
 "nbformat_minor": 2
}
