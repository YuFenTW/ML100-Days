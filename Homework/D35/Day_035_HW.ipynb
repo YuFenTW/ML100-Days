{
 "cells": [
  {
   "cell_type": "markdown",
   "metadata": {},
   "source": [
    "## 練習時間\n",
    "相信大家對回歸問題及分類問題都有初步的了解。今天的作業希望大家搜尋有關 multi-label 的案例問題。下圖是電影 \"奇異博士\" 的分類。可以看到同時有 \"Action\", \"Adventure\", \"Fantasy\" 的類別存在，代表這是個多標籤的問題。 "
   ]
  },
  {
   "cell_type": "markdown",
   "metadata": {},
   "source": [
    "![image](https://cdn-images-1.medium.com/max/1000/1*r0gYXMSQf5VhdMyl2bRDyg.png)"
   ]
  },
  {
   "cell_type": "markdown",
   "metadata": {},
   "source": [
    "## 請搜尋目標為多標籤問題 (Multi-label) 的機器學習案例，了解其資料來源、目標以及評估指標為何\n",
    "## Hint: 服飾"
   ]
  },
  {
   "cell_type": "markdown",
   "metadata": {},
   "source": [
    "> https://blog.csdn.net/Julialove102123/article/details/80008298\n",
    "\n",
    "## 阿里：FashionAI全球挑战赛——服饰属性标签识别\n",
    "\n",
    "### 資料來源 : \n",
    "图像数据采自阿里电商数据。\n",
    "\n",
    "### 目標 : \n",
    "大赛聚焦机器认知时尚的两个基础问题：服饰关键点定位和服饰属性标签识别，通过实战推动AI与时尚行业跨界融合。\n",
    "\n",
    "### 評估指標 : \n",
    "1. 录入参赛者提交的csv文件，为每条数据计算出AttrValueProbs中的最大概率以及对应的标签，分别记为MaxAttrValueProb和MaxAttrValue。\n",
    "2. 对每个属性维度，分别初始化评测计数器：\n",
    "    BLOCK_COUNT = 0 (不输出的个数)\n",
    "    PRED_COUNT = 0 (预测输出的个数)\n",
    "    PRED_CORRECT_COUNT = 0 (预测正确的个数)\n",
    "    设定GT_COUNT为该属性维度下所有相关数据的总条数\n",
    "3. 给定一个模型输出阈值（ProbThreshold），分析与该属性维度相关的每条数据的预测结果：\n",
    "    当MaxAttrValueProb < ProbThreshold，模型不输出：BLOCK_COUNT++\n",
    "    当MaxAttrValueProb >= ProbThreshold：\n",
    "    MaxAttrValue对应的标注位是'y'时，记为正确： PRED_COUNT++，PRED_CORRECT_COUNT++\n",
    "    MaxAttrValue对应的标注位是'm'时，不记入准确率评测：无操作\n",
    "    MaxAttrValue对应的标注位是'n'时，记为错误： PRED_COUNT++\n",
    "4. 遍历使BLOCK_COUNT落在[0, GT_COUNT)里所有可能的阈值ProbThreshold，分别计算：\n",
    "    准确率(P)：PRED_CORRECT_COUNT / PRED_COUNT\n",
    "    统计它们的平均值，记为AP。 \n",
    "5. 综合所有的属性维度计算得到的AP，统计它们的平均值，得出mAP。mAP将作为挑战赛——服饰属性标签识别赛道的竞赛排名得分。\n",
    "\n",
    "6. 还会展示BasicPrecision指标，即模型在测试集全部预测输出(ProbThreshold=0)情况下每个属性维度准确率的平均值，作为更直接的准确率预估指标供大家参考。在BasicPrecision = 0.7时，排名得分mAP一般在 0.93 左右。"
   ]
  },
  {
   "cell_type": "code",
   "execution_count": null,
   "metadata": {},
   "outputs": [],
   "source": []
  }
 ],
 "metadata": {
  "kernelspec": {
   "display_name": "Python 3",
   "language": "python",
   "name": "python3"
  },
  "language_info": {
   "codemirror_mode": {
    "name": "ipython",
    "version": 3
   },
   "file_extension": ".py",
   "mimetype": "text/x-python",
   "name": "python",
   "nbconvert_exporter": "python",
   "pygments_lexer": "ipython3",
   "version": "3.7.1"
  }
 },
 "nbformat": 4,
 "nbformat_minor": 2
}
