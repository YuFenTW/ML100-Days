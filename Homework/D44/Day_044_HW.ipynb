{
 "cells": [
  {
   "cell_type": "markdown",
   "metadata": {},
   "source": [
    "## 作業\n",
    "\n",
    "1. 試著調整 RandomForestClassifier(...) 中的參數，並觀察是否會改變結果？\n",
    "2. 改用其他資料集 (boston, wine)，並與回歸模型與決策樹的結果進行比較"
   ]
  },
  {
   "cell_type": "markdown",
   "metadata": {},
   "source": [
    "## Q1\n",
    "\n",
    "### Ans : 對於【Feature Importance】會有變化"
   ]
  },
  {
   "cell_type": "code",
   "execution_count": 1,
   "metadata": {},
   "outputs": [],
   "source": [
    "import warnings\n",
    "warnings.simplefilter(action='ignore', category=FutureWarning)\n",
    "\n",
    "from sklearn import datasets, metrics\n",
    "from sklearn.ensemble import RandomForestClassifier, RandomForestRegressor\n",
    "from sklearn.model_selection import train_test_split\n",
    "\n",
    "import numpy as np\n",
    "from sklearn.tree import DecisionTreeClassifier, DecisionTreeRegressor"
   ]
  },
  {
   "cell_type": "code",
   "execution_count": 2,
   "metadata": {},
   "outputs": [
    {
     "name": "stdout",
     "output_type": "stream",
     "text": [
      "***** n_estimators: 100, max_features : log2\n",
      "Acuuracy: 0.973684, feature_name : ['sepal length (cm)', 'sepal width (cm)', 'petal length (cm)', 'petal width (cm)'], feature importance: [0.09938175 0.03149915 0.4349735  0.4341456 ]\n",
      "***** n_estimators: 100, max_features : sqrt\n",
      "Acuuracy: 0.973684, feature_name : ['sepal length (cm)', 'sepal width (cm)', 'petal length (cm)', 'petal width (cm)'], feature importance: [0.10078676 0.03251669 0.42388029 0.44281626]\n",
      "***** n_estimators: 101, max_features : log2\n",
      "Acuuracy: 0.973684, feature_name : ['sepal length (cm)', 'sepal width (cm)', 'petal length (cm)', 'petal width (cm)'], feature importance: [0.09775275 0.03106332 0.44946408 0.42171986]\n",
      "***** n_estimators: 101, max_features : sqrt\n",
      "Acuuracy: 0.973684, feature_name : ['sepal length (cm)', 'sepal width (cm)', 'petal length (cm)', 'petal width (cm)'], feature importance: [0.10693612 0.03414316 0.44217891 0.4167418 ]\n",
      "***** n_estimators: 102, max_features : log2\n",
      "Acuuracy: 0.973684, feature_name : ['sepal length (cm)', 'sepal width (cm)', 'petal length (cm)', 'petal width (cm)'], feature importance: [0.11005727 0.03103731 0.44298953 0.41591588]\n",
      "***** n_estimators: 102, max_features : sqrt\n",
      "Acuuracy: 0.973684, feature_name : ['sepal length (cm)', 'sepal width (cm)', 'petal length (cm)', 'petal width (cm)'], feature importance: [0.10362681 0.03246256 0.42669281 0.43721782]\n",
      "***** n_estimators: 103, max_features : log2\n",
      "Acuuracy: 0.973684, feature_name : ['sepal length (cm)', 'sepal width (cm)', 'petal length (cm)', 'petal width (cm)'], feature importance: [0.11029295 0.03453476 0.42868017 0.42649212]\n",
      "***** n_estimators: 103, max_features : sqrt\n",
      "Acuuracy: 0.973684, feature_name : ['sepal length (cm)', 'sepal width (cm)', 'petal length (cm)', 'petal width (cm)'], feature importance: [0.10635088 0.0360585  0.44073948 0.41685114]\n",
      "***** n_estimators: 104, max_features : log2\n",
      "Acuuracy: 0.973684, feature_name : ['sepal length (cm)', 'sepal width (cm)', 'petal length (cm)', 'petal width (cm)'], feature importance: [0.10487011 0.03088005 0.43334829 0.43090156]\n",
      "***** n_estimators: 104, max_features : sqrt\n",
      "Acuuracy: 0.973684, feature_name : ['sepal length (cm)', 'sepal width (cm)', 'petal length (cm)', 'petal width (cm)'], feature importance: [0.10479371 0.03404003 0.44483961 0.41632665]\n"
     ]
    }
   ],
   "source": [
    "# 讀取鳶尾花資料集\n",
    "iris = datasets.load_iris()\n",
    "\n",
    "# 切分訓練集/測試集\n",
    "x_train, x_test, y_train, y_test = train_test_split(iris.data, iris.target, test_size=0.25, random_state=4)\n",
    "\n",
    "param_max_features = {'sqrt', 'log2'}\n",
    "\n",
    "for i in range(100, 105) :\n",
    "    for j in param_max_features :\n",
    "        # 建立模型\n",
    "        clf = RandomForestClassifier(n_estimators=1000, max_features=j)\n",
    "\n",
    "        # 訓練模型\n",
    "        clf.fit(x_train, y_train)\n",
    "\n",
    "        # 預測測試集\n",
    "        y_pred = clf.predict(x_test)\n",
    "\n",
    "        acc = metrics.accuracy_score(y_test, y_pred)\n",
    "        print('***** n_estimators: %d, max_features : %s' %(i, j))\n",
    "        print(\"Acuuracy: %f, feature_name : %s, feature importance: %s\" %(acc, iris.feature_names, clf.feature_importances_))"
   ]
  },
  {
   "cell_type": "markdown",
   "metadata": {},
   "source": [
    "## Q2. Boston ==> RandomForestRegressor VS DecisionTreeRegressor\n",
    "\n",
    "### Ans : 對於 Boston Dataset, 同樣使用回歸模型, RandomForestRegressor 對於預測值的準確性優於 DecisionTreeRegressor"
   ]
  },
  {
   "cell_type": "code",
   "execution_count": 3,
   "metadata": {},
   "outputs": [
    {
     "name": "stdout",
     "output_type": "stream",
     "text": [
      "==== RandomForestRegressor\n",
      "MSE:  18.088048818897636\n",
      "RMSE:  4.253004681269189\n"
     ]
    }
   ],
   "source": [
    "boston = datasets.load_boston()\n",
    "\n",
    "x_train, x_test, y_train, y_test = train_test_split(boston.data, boston.target, test_size=0.25, random_state=4)\n",
    "\n",
    "clf = RandomForestRegressor()\n",
    "\n",
    "clf.fit(x_train, y_train)\n",
    "\n",
    "y_pred = clf.predict(x_test)\n",
    "\n",
    "print('==== RandomForestRegressor')\n",
    "mse = metrics.mean_squared_error(y_test, y_pred)\n",
    "print(\"MSE: \", mse)\n",
    "rmse = np.sqrt(metrics.mean_squared_error(y_test, y_pred))\n",
    "print(\"RMSE: \", rmse)"
   ]
  },
  {
   "cell_type": "code",
   "execution_count": 4,
   "metadata": {},
   "outputs": [
    {
     "name": "stdout",
     "output_type": "stream",
     "text": [
      "==== DecisionTreeRegressor\n",
      "MSE:  30.40952755905512\n",
      "RMSE:  5.5144834353777075\n"
     ]
    }
   ],
   "source": [
    "clf = DecisionTreeRegressor()\n",
    "\n",
    "clf.fit(x_train, y_train)\n",
    "\n",
    "y_pred = clf.predict(x_test)\n",
    "\n",
    "print('==== DecisionTreeRegressor')\n",
    "mse = metrics.mean_squared_error(y_test, y_pred)\n",
    "print(\"MSE: \", mse)\n",
    "rmse = np.sqrt(metrics.mean_squared_error(y_test, y_pred))\n",
    "print(\"RMSE: \", rmse)"
   ]
  },
  {
   "cell_type": "markdown",
   "metadata": {},
   "source": [
    "## Q2. Wine ==> RandomForestRegressor VS DecisionTreeRegressor\n",
    "\n",
    "### Ans : 對於 Wine Dataset, 同樣使用回歸模型, DecisionTreeRegressor 對於預測值的準確性優於 RandomForestRegressor"
   ]
  },
  {
   "cell_type": "code",
   "execution_count": 5,
   "metadata": {},
   "outputs": [
    {
     "name": "stdout",
     "output_type": "stream",
     "text": [
      "==== RandomForestRegressor\n",
      "MSE:  0.03355555555555556\n",
      "RMSE:  0.1831817555204545\n"
     ]
    }
   ],
   "source": [
    "wine = datasets.load_wine()\n",
    "\n",
    "x_train, x_test, y_train, y_test = train_test_split(wine.data, wine.target, test_size=0.25, random_state=4)\n",
    "\n",
    "clf = RandomForestRegressor()\n",
    "\n",
    "clf.fit(x_train, y_train)\n",
    "\n",
    "y_pred = clf.predict(x_test)\n",
    "\n",
    "print('==== RandomForestRegressor')\n",
    "mse = metrics.mean_squared_error(y_test, y_pred)\n",
    "print(\"MSE: \", mse)\n",
    "rmse = np.sqrt(metrics.mean_squared_error(y_test, y_pred))\n",
    "print(\"RMSE: \", rmse)"
   ]
  },
  {
   "cell_type": "code",
   "execution_count": 6,
   "metadata": {},
   "outputs": [
    {
     "name": "stdout",
     "output_type": "stream",
     "text": [
      "==== DecisionTreeRegressor\n",
      "MSE:  0.022222222222222223\n",
      "RMSE:  0.14907119849998599\n"
     ]
    }
   ],
   "source": [
    "clf = DecisionTreeRegressor()\n",
    "\n",
    "clf.fit(x_train, y_train)\n",
    "\n",
    "y_pred = clf.predict(x_test)\n",
    "\n",
    "print('==== DecisionTreeRegressor')\n",
    "mse = metrics.mean_squared_error(y_test, y_pred)\n",
    "print(\"MSE: \", mse)\n",
    "rmse = np.sqrt(metrics.mean_squared_error(y_test, y_pred))\n",
    "print(\"RMSE: \", rmse)"
   ]
  },
  {
   "cell_type": "markdown",
   "metadata": {},
   "source": [
    "### Q2 Summary : DecisionTree VS RandomForest 的不同及何時該使用那一個\n",
    "### Ans : <a href='https://stats.stackexchange.com/questions/285834/difference-between-random-forests-and-decision-tree'>Difference between Random Forests and Decision tree</a>"
   ]
  },
  {
   "cell_type": "code",
   "execution_count": null,
   "metadata": {},
   "outputs": [],
   "source": []
  }
 ],
 "metadata": {
  "kernelspec": {
   "display_name": "Python 3",
   "language": "python",
   "name": "python3"
  },
  "language_info": {
   "codemirror_mode": {
    "name": "ipython",
    "version": 3
   },
   "file_extension": ".py",
   "mimetype": "text/x-python",
   "name": "python",
   "nbconvert_exporter": "python",
   "pygments_lexer": "ipython3",
   "version": "3.7.1"
  }
 },
 "nbformat": 4,
 "nbformat_minor": 2
}
