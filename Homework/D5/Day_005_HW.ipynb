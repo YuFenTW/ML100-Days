{
 "cells": [
  {
   "cell_type": "code",
   "execution_count": 1,
   "metadata": {},
   "outputs": [],
   "source": [
    "# Import 需要的套件\n",
    "import os\n",
    "import numpy as np\n",
    "import pandas as pd\n",
    "\n",
    "# 設定 data_path\n",
    "dir_data = '../../data/1/'"
   ]
  },
  {
   "cell_type": "code",
   "execution_count": 2,
   "metadata": {},
   "outputs": [],
   "source": [
    "f_app_train = os.path.join(dir_data, 'application_train.csv')\n",
    "app_train = pd.read_csv(f_app_train)"
   ]
  },
  {
   "cell_type": "code",
   "execution_count": 3,
   "metadata": {},
   "outputs": [],
   "source": [
    "import matplotlib.pyplot as plt\n",
    "%matplotlib inline"
   ]
  },
  {
   "cell_type": "markdown",
   "metadata": {},
   "source": [
    "## 練習時間"
   ]
  },
  {
   "cell_type": "markdown",
   "metadata": {},
   "source": [
    "觀察有興趣的欄位的資料分佈，並嘗試找出有趣的訊息\n",
    "#### Eg\n",
    "- 計算任意欄位的平均數及標準差\n",
    "- 畫出任意欄位的[直方圖](https://zh.wikipedia.org/zh-tw/%E7%9B%B4%E6%96%B9%E5%9B%BE)\n",
    "\n",
    "### Hints:\n",
    "- [Descriptive Statistics For pandas Dataframe](https://chrisalbon.com/python/data_wrangling/pandas_dataframe_descriptive_stats/)\n",
    "- [pandas 中的繪圖函數](https://amaozhao.gitbooks.io/pandas-notebook/content/pandas%E4%B8%AD%E7%9A%84%E7%BB%98%E5%9B%BE%E5%87%BD%E6%95%B0.html)\n"
   ]
  },
  {
   "cell_type": "markdown",
   "metadata": {},
   "source": [
    "## 解答 : 計算任意欄位的平均數及標準差"
   ]
  },
  {
   "cell_type": "code",
   "execution_count": 4,
   "metadata": {},
   "outputs": [
    {
     "name": "stdout",
     "output_type": "stream",
     "text": [
      "欄位[AMT_INCOME_TOTAL]的平均數=168797.92\n"
     ]
    }
   ],
   "source": [
    "# 計算欄位[AMT_INCOME_TOTAL]的平均數 (到小數第二位)\n",
    "app_train_mean = app_train['AMT_INCOME_TOTAL'].mean()\n",
    "print('欄位[AMT_INCOME_TOTAL]的平均數=%.2f' %(app_train_mean))"
   ]
  },
  {
   "cell_type": "code",
   "execution_count": 5,
   "metadata": {},
   "outputs": [
    {
     "name": "stdout",
     "output_type": "stream",
     "text": [
      "欄位[AMT_INCOME_TOTAL]的標準差=237123.15\n"
     ]
    }
   ],
   "source": [
    "# 計算欄位[AMT_INCOME_TOTAL]的標準差 (到小數第二位)\n",
    "app_train_std = app_train['AMT_INCOME_TOTAL'].std()\n",
    "print('欄位[AMT_INCOME_TOTAL]的標準差=%.2f' %(app_train_std))"
   ]
  },
  {
   "cell_type": "code",
   "execution_count": 6,
   "metadata": {},
   "outputs": [
    {
     "name": "stdout",
     "output_type": "stream",
     "text": [
      "欄位[AMT_INCOME_TOTAL]的非為空值的觀測數量=307511\n",
      "欄位[AMT_INCOME_TOTAL]的所有值之和=51907216960\n",
      "欄位[AMT_INCOME_TOTAL]的中位數=147150\n",
      "欄位[AMT_INCOME_TOTAL]的所有值中的最小值=25650\n",
      "欄位[AMT_INCOME_TOTAL]的所有值中的最大值=117000000\n"
     ]
    }
   ],
   "source": [
    "print('欄位[AMT_INCOME_TOTAL]的非為空值的觀測數量=%d' %(app_train['AMT_INCOME_TOTAL'].count()))\n",
    "print('欄位[AMT_INCOME_TOTAL]的所有值之和=%d' %(app_train['AMT_INCOME_TOTAL'].sum()))\n",
    "print('欄位[AMT_INCOME_TOTAL]的中位數=%d' %(app_train['AMT_INCOME_TOTAL'].median()))\n",
    "print('欄位[AMT_INCOME_TOTAL]的所有值中的最小值=%d' %(app_train['AMT_INCOME_TOTAL'].min()))\n",
    "print('欄位[AMT_INCOME_TOTAL]的所有值中的最大值=%d' %(app_train['AMT_INCOME_TOTAL'].max()))"
   ]
  },
  {
   "cell_type": "code",
   "execution_count": 7,
   "metadata": {},
   "outputs": [
    {
     "data": {
      "text/plain": [
       "count    3.075110e+05\n",
       "mean     1.687979e+05\n",
       "std      2.371231e+05\n",
       "min      2.565000e+04\n",
       "25%      1.125000e+05\n",
       "50%      1.471500e+05\n",
       "75%      2.025000e+05\n",
       "max      1.170000e+08\n",
       "Name: AMT_INCOME_TOTAL, dtype: float64"
      ]
     },
     "execution_count": 7,
     "metadata": {},
     "output_type": "execute_result"
    }
   ],
   "source": [
    "# 取得描述性統計數據\n",
    "app_train['AMT_INCOME_TOTAL'].describe()"
   ]
  },
  {
   "cell_type": "markdown",
   "metadata": {},
   "source": [
    "## 解答 : 畫出任意欄位的直方圖"
   ]
  },
  {
   "cell_type": "code",
   "execution_count": 8,
   "metadata": {},
   "outputs": [
    {
     "data": {
      "text/plain": [
       "Text(0.5, 1.0, 'AMT_INCOME_TOTAL')"
      ]
     },
     "execution_count": 8,
     "metadata": {},
     "output_type": "execute_result"
    },
    {
     "data": {
      "image/png": "[encoded data removed]",
      "text/plain": [
       "<Figure size 576x432 with 1 Axes>"
      ]
     },
     "metadata": {},
     "output_type": "display_data"
    }
   ],
   "source": [
    "plt.style.use('ggplot')  # 設置圖形的顯示風格\n",
    "plt.subplots(figsize=(8,6))   # 創建8英寸(W)*6英寸(H)的插圖\n",
    "plt.hist(app_train['AMT_INCOME_TOTAL'][0:20],\n",
    "         color = 'steelblue', # 指定填充色\n",
    "         edgecolor = 'k' # 指定直方圖的邊界色\n",
    "        )\n",
    "plt.title('AMT_INCOME_TOTAL')"
   ]
  }
 ],
 "metadata": {
  "kernelspec": {
   "display_name": "Python 3",
   "language": "python",
   "name": "python3"
  },
  "language_info": {
   "codemirror_mode": {
    "name": "ipython",
    "version": 3
   },
   "file_extension": ".py",
   "mimetype": "text/x-python",
   "name": "python",
   "nbconvert_exporter": "python",
   "pygments_lexer": "ipython3",
   "version": "3.7.1"
  }
 },
 "nbformat": 4,
 "nbformat_minor": 2
}
