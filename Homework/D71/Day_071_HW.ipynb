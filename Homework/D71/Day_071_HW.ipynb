{
 "cells": [
  {
   "cell_type": "markdown",
   "metadata": {},
   "source": [
    "# Import Library"
   ]
  },
  {
   "cell_type": "code",
   "execution_count": 1,
   "metadata": {},
   "outputs": [
    {
     "name": "stderr",
     "output_type": "stream",
     "text": [
      "Using TensorFlow backend.\n"
     ]
    }
   ],
   "source": [
    "from keras.datasets import cifar10\n",
    "import numpy as np\n",
    "np.random.seed(10)"
   ]
  },
  {
   "cell_type": "markdown",
   "metadata": {},
   "source": [
    "# 資料準備"
   ]
  },
  {
   "cell_type": "code",
   "execution_count": 2,
   "metadata": {},
   "outputs": [],
   "source": [
    "#取得Keras Dataset\n",
    "(x_img_train,y_label_train),(x_img_test,y_label_test)=cifar10.load_data()"
   ]
  },
  {
   "cell_type": "code",
   "execution_count": 3,
   "metadata": {},
   "outputs": [
    {
     "name": "stdout",
     "output_type": "stream",
     "text": [
      "train data: images: (50000, 32, 32, 3)  labels: (50000, 1)\n",
      "test  data: images: (10000, 32, 32, 3)  labels: (10000, 1)\n"
     ]
    }
   ],
   "source": [
    "#確認 CIFAR10 Dataset 資料維度\n",
    "print(\"train data:\",'images:',x_img_train.shape,\n",
    "      \" labels:\",y_label_train.shape) \n",
    "print(\"test  data:\",'images:',x_img_test.shape ,\n",
    "      \" labels:\",y_label_test.shape) "
   ]
  },
  {
   "cell_type": "code",
   "execution_count": 4,
   "metadata": {},
   "outputs": [],
   "source": [
    "#資料正規化\n",
    "x_img_train_normalize = x_img_train.astype('float32') / 255.0\n",
    "x_img_test_normalize = x_img_test.astype('float32') / 255.0"
   ]
  },
  {
   "cell_type": "code",
   "execution_count": 5,
   "metadata": {},
   "outputs": [
    {
     "data": {
      "text/plain": [
       "(10000, 10)"
      ]
     },
     "execution_count": 5,
     "metadata": {},
     "output_type": "execute_result"
    }
   ],
   "source": [
    "#針對Label 做 ONE HOT ENCODE\n",
    "from keras.utils import np_utils\n",
    "y_label_train_OneHot = np_utils.to_categorical(y_label_train)\n",
    "y_label_test_OneHot = np_utils.to_categorical(y_label_test)\n",
    "y_label_test_OneHot.shape"
   ]
  },
  {
   "cell_type": "markdown",
   "metadata": {},
   "source": [
    "# 建立模型"
   ]
  },
  {
   "cell_type": "code",
   "execution_count": 6,
   "metadata": {},
   "outputs": [],
   "source": [
    "from keras.models import Sequential\n",
    "from keras.layers import Dense, Dropout, Activation, Flatten\n",
    "from keras.layers import Conv2D, MaxPooling2D, ZeroPadding2D"
   ]
  },
  {
   "cell_type": "code",
   "execution_count": 7,
   "metadata": {},
   "outputs": [],
   "source": [
    "model = Sequential()"
   ]
  },
  {
   "cell_type": "markdown",
   "metadata": {},
   "source": [
    "#卷積層1"
   ]
  },
  {
   "cell_type": "code",
   "execution_count": 8,
   "metadata": {},
   "outputs": [],
   "source": [
    "model.add(Conv2D(filters=32,kernel_size=(3,3),\n",
    "                 input_shape=(32, 32,3), \n",
    "                 activation='relu', \n",
    "                 padding='same'))"
   ]
  },
  {
   "cell_type": "code",
   "execution_count": 9,
   "metadata": {},
   "outputs": [],
   "source": [
    "model.add(Dropout(rate=0.25))"
   ]
  },
  {
   "cell_type": "code",
   "execution_count": 10,
   "metadata": {},
   "outputs": [],
   "source": [
    "model.add(MaxPooling2D(pool_size=(2, 2)))"
   ]
  },
  {
   "cell_type": "markdown",
   "metadata": {},
   "source": [
    "#卷積層2與池化層2"
   ]
  },
  {
   "cell_type": "code",
   "execution_count": 11,
   "metadata": {},
   "outputs": [],
   "source": [
    "model.add(Conv2D(filters=64, kernel_size=(3, 3), \n",
    "                 activation='relu', padding='same'))"
   ]
  },
  {
   "cell_type": "code",
   "execution_count": 12,
   "metadata": {},
   "outputs": [],
   "source": [
    "model.add(Dropout(0.25))"
   ]
  },
  {
   "cell_type": "code",
   "execution_count": 13,
   "metadata": {},
   "outputs": [],
   "source": [
    "model.add(MaxPooling2D(pool_size=(2, 2)))"
   ]
  },
  {
   "cell_type": "markdown",
   "metadata": {},
   "source": [
    "#建立神經網路(平坦層、隱藏層、輸出層)"
   ]
  },
  {
   "cell_type": "code",
   "execution_count": 14,
   "metadata": {},
   "outputs": [],
   "source": [
    "model.add(Flatten())\n",
    "model.add(Dropout(rate=0.25))"
   ]
  },
  {
   "cell_type": "code",
   "execution_count": 15,
   "metadata": {},
   "outputs": [],
   "source": [
    "model.add(Dense(1024, activation='relu'))\n",
    "model.add(Dropout(rate=0.25))"
   ]
  },
  {
   "cell_type": "code",
   "execution_count": 16,
   "metadata": {},
   "outputs": [],
   "source": [
    "model.add(Dense(10, activation='softmax'))"
   ]
  },
  {
   "cell_type": "code",
   "execution_count": 17,
   "metadata": {},
   "outputs": [
    {
     "name": "stdout",
     "output_type": "stream",
     "text": [
      "_________________________________________________________________\n",
      "Layer (type)                 Output Shape              Param #   \n",
      "=================================================================\n",
      "conv2d_1 (Conv2D)            (None, 32, 32, 32)        896       \n",
      "_________________________________________________________________\n",
      "dropout_1 (Dropout)          (None, 32, 32, 32)        0         \n",
      "_________________________________________________________________\n",
      "max_pooling2d_1 (MaxPooling2 (None, 16, 16, 32)        0         \n",
      "_________________________________________________________________\n",
      "conv2d_2 (Conv2D)            (None, 16, 16, 64)        18496     \n",
      "_________________________________________________________________\n",
      "dropout_2 (Dropout)          (None, 16, 16, 64)        0         \n",
      "_________________________________________________________________\n",
      "max_pooling2d_2 (MaxPooling2 (None, 8, 8, 64)          0         \n",
      "_________________________________________________________________\n",
      "flatten_1 (Flatten)          (None, 4096)              0         \n",
      "_________________________________________________________________\n",
      "dropout_3 (Dropout)          (None, 4096)              0         \n",
      "_________________________________________________________________\n",
      "dense_1 (Dense)              (None, 1024)              4195328   \n",
      "_________________________________________________________________\n",
      "dropout_4 (Dropout)          (None, 1024)              0         \n",
      "_________________________________________________________________\n",
      "dense_2 (Dense)              (None, 10)                10250     \n",
      "=================================================================\n",
      "Total params: 4,224,970\n",
      "Trainable params: 4,224,970\n",
      "Non-trainable params: 0\n",
      "_________________________________________________________________\n",
      "None\n"
     ]
    }
   ],
   "source": [
    "#檢查model 的STACK\n",
    "print(model.summary())"
   ]
  },
  {
   "cell_type": "markdown",
   "metadata": {},
   "source": [
    "# 載入之前訓練的模型"
   ]
  },
  {
   "cell_type": "code",
   "execution_count": 18,
   "metadata": {},
   "outputs": [
    {
     "name": "stdout",
     "output_type": "stream",
     "text": [
      "載入模型失敗!開始訓練一個新模型\n"
     ]
    }
   ],
   "source": [
    "try:\n",
    "    model.load_weights(\"SaveModel/cifarCnnModel.h5\")\n",
    "    print(\"載入模型成功!繼續訓練模型\")\n",
    "except :    \n",
    "    print(\"載入模型失敗!開始訓練一個新模型\")"
   ]
  },
  {
   "cell_type": "markdown",
   "metadata": {},
   "source": [
    "# 訓練模型"
   ]
  },
  {
   "cell_type": "markdown",
   "metadata": {},
   "source": [
    "# 作業: \n",
    "    請分別選用 \"MSE\", \"binary_crossentropy\"\n",
    "    查看Train/test accurancy and loss rate"
   ]
  },
  {
   "cell_type": "code",
   "execution_count": 19,
   "metadata": {},
   "outputs": [],
   "source": [
    "def trainModel(loss='categorical_crossentropy'):\n",
    "    model.compile(loss='categorical_crossentropy', optimizer='sgd', metrics=['accuracy'])\n",
    "    train_history=model.fit(x_img_train_normalize, y_label_train_OneHot,\n",
    "                        validation_split=0.2,\n",
    "                        epochs=10, batch_size=16, verbose=1)   \n",
    "    # 評估模型\n",
    "    lossrate, accuracy = model.evaluate(x_img_test_normalize, y_label_test_OneHot)\n",
    "    print('loss :',loss,'===> loss=',lossrate,'; accuracy=',accuracy)"
   ]
  },
  {
   "cell_type": "code",
   "execution_count": 21,
   "metadata": {},
   "outputs": [
    {
     "name": "stdout",
     "output_type": "stream",
     "text": [
      "Train on 40000 samples, validate on 10000 samples\n",
      "Epoch 1/10\n",
      "40000/40000 [==============================] - 25s 621us/step - loss: 1.8145 - acc: 0.3415 - val_loss: 1.6088 - val_acc: 0.4592\n",
      "Epoch 2/10\n",
      "40000/40000 [==============================] - 21s 520us/step - loss: 1.4489 - acc: 0.4792 - val_loss: 1.3872 - val_acc: 0.5363\n",
      "Epoch 3/10\n",
      "40000/40000 [==============================] - 21s 520us/step - loss: 1.2971 - acc: 0.5372 - val_loss: 1.3068 - val_acc: 0.5798\n",
      "Epoch 4/10\n",
      "40000/40000 [==============================] - 21s 522us/step - loss: 1.1907 - acc: 0.5789 - val_loss: 1.2214 - val_acc: 0.6118\n",
      "Epoch 5/10\n",
      "40000/40000 [==============================] - 21s 521us/step - loss: 1.1057 - acc: 0.6084 - val_loss: 1.1522 - val_acc: 0.6324\n",
      "Epoch 6/10\n",
      "40000/40000 [==============================] - 21s 514us/step - loss: 1.0371 - acc: 0.6334 - val_loss: 1.1090 - val_acc: 0.6335\n",
      "Epoch 7/10\n",
      "40000/40000 [==============================] - 21s 517us/step - loss: 0.9743 - acc: 0.6583 - val_loss: 1.0590 - val_acc: 0.6569\n",
      "Epoch 8/10\n",
      "40000/40000 [==============================] - 21s 524us/step - loss: 0.9224 - acc: 0.6727 - val_loss: 1.0143 - val_acc: 0.6774\n",
      "Epoch 9/10\n",
      "40000/40000 [==============================] - 21s 527us/step - loss: 0.8735 - acc: 0.6932 - val_loss: 0.9982 - val_acc: 0.6686\n",
      "Epoch 10/10\n",
      "40000/40000 [==============================] - 21s 522us/step - loss: 0.8209 - acc: 0.7093 - val_loss: 0.9658 - val_acc: 0.6758\n",
      "10000/10000 [==============================] - 1s 93us/step\n",
      "loss : MSE ===> loss= 0.9728872318267823 ; accuracy= 0.6704\n"
     ]
    }
   ],
   "source": [
    "trainModel('MSE')"
   ]
  },
  {
   "cell_type": "code",
   "execution_count": 22,
   "metadata": {},
   "outputs": [
    {
     "name": "stdout",
     "output_type": "stream",
     "text": [
      "Train on 40000 samples, validate on 10000 samples\n",
      "Epoch 1/10\n",
      "40000/40000 [==============================] - 22s 561us/step - loss: 0.7789 - acc: 0.7249 - val_loss: 0.9166 - val_acc: 0.6975\n",
      "Epoch 2/10\n",
      "40000/40000 [==============================] - 21s 532us/step - loss: 0.7303 - acc: 0.7426 - val_loss: 0.8796 - val_acc: 0.7170\n",
      "Epoch 3/10\n",
      "40000/40000 [==============================] - 21s 526us/step - loss: 0.6905 - acc: 0.7547 - val_loss: 0.8835 - val_acc: 0.7017\n",
      "Epoch 4/10\n",
      "40000/40000 [==============================] - 21s 525us/step - loss: 0.6421 - acc: 0.7733 - val_loss: 0.8541 - val_acc: 0.7191\n",
      "Epoch 5/10\n",
      "40000/40000 [==============================] - 21s 524us/step - loss: 0.6048 - acc: 0.7853 - val_loss: 0.8323 - val_acc: 0.7212\n",
      "Epoch 6/10\n",
      "40000/40000 [==============================] - 21s 535us/step - loss: 0.5587 - acc: 0.8018 - val_loss: 0.8306 - val_acc: 0.7158\n",
      "Epoch 7/10\n",
      "40000/40000 [==============================] - 21s 524us/step - loss: 0.5215 - acc: 0.8132 - val_loss: 0.8035 - val_acc: 0.7308\n",
      "Epoch 8/10\n",
      "40000/40000 [==============================] - 21s 527us/step - loss: 0.4904 - acc: 0.8255 - val_loss: 0.8257 - val_acc: 0.7140\n",
      "Epoch 9/10\n",
      "40000/40000 [==============================] - 22s 548us/step - loss: 0.4527 - acc: 0.8410 - val_loss: 0.7661 - val_acc: 0.7411\n",
      "Epoch 10/10\n",
      "40000/40000 [==============================] - 22s 541us/step - loss: 0.4185 - acc: 0.8516 - val_loss: 0.7838 - val_acc: 0.7331\n",
      "10000/10000 [==============================] - 1s 79us/step\n",
      "loss : binary_crossentropy ===> loss= 0.7932599992752075 ; accuracy= 0.7253\n"
     ]
    }
   ],
   "source": [
    "trainModel('binary_crossentropy')"
   ]
  },
  {
   "cell_type": "code",
   "execution_count": null,
   "metadata": {},
   "outputs": [],
   "source": []
  }
 ],
 "metadata": {
  "anaconda-cloud": {},
  "kernelspec": {
   "display_name": "Python 3",
   "language": "python",
   "name": "python3"
  },
  "language_info": {
   "codemirror_mode": {
    "name": "ipython",
    "version": 3
   },
   "file_extension": ".py",
   "mimetype": "text/x-python",
   "name": "python",
   "nbconvert_exporter": "python",
   "pygments_lexer": "ipython3",
   "version": "3.6.8"
  }
 },
 "nbformat": 4,
 "nbformat_minor": 1
}
