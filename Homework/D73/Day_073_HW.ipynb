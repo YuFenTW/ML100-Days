{
 "cells": [
  {
   "cell_type": "markdown",
   "metadata": {},
   "source": [
    "# Find the local minima of the function y=(x+5)² starting from the point x=3"
   ]
  },
  {
   "cell_type": "markdown",
   "metadata": {},
   "source": [
    "\n",
    "Step 1 : Initialize x =3. Then, find the gradient of the function, dy/dx = 2*(x+5).\n",
    "\n",
    "Step 2 : Move in the direction of the negative of the gradient. We use a learning rate. Let us assume the learning rate → 0.01\n",
    "\n",
    "Step 3 : Let’s perform 2 iterations of gradient descent\n",
    "\n",
    "Step 4 : We can observe that the X value is slowly decreasing and should converge to -5 (the local minima). However, how many iterations should we perform?"
   ]
  },
  {
   "cell_type": "markdown",
   "metadata": {},
   "source": [
    "# 作業:\n",
    "    請嘗試使用不同的組合驗證 learning rate 對所需 iteration 的影響\n",
    "    lr = [0.1, 0.0001]\n",
    "    主要驗證 Lr 對於grandient 收斂的速度\n",
    "    "
   ]
  },
  {
   "cell_type": "code",
   "execution_count": 1,
   "metadata": {},
   "outputs": [],
   "source": [
    "import matplotlib.pyplot as plt\n",
    "%matplotlib inline \n",
    "#適用於 Jupyter Notebook, 宣告直接在cell 內印出執行結果"
   ]
  },
  {
   "cell_type": "code",
   "execution_count": 2,
   "metadata": {},
   "outputs": [],
   "source": [
    "precision = 0.000001 #This tells us when to stop the algorithm\n",
    "max_iters = 20000 # maximum number of iterations\n",
    "df = lambda x: 2*(x+5) #Gradient of our function "
   ]
  },
  {
   "cell_type": "code",
   "execution_count": 3,
   "metadata": {},
   "outputs": [],
   "source": [
    "def GDFunction(lr):\n",
    "    global precision, max_iters, df\n",
    "    \n",
    "    cur_x = 3 # The algorithm starts at x=3\n",
    "    previous_step_size = 1\n",
    "    iters = 0 #iteration counter\n",
    "\n",
    "    iters_history = [iters]\n",
    "    x_history = [cur_x]\n",
    "    \n",
    "    print(\"****************************************\\nThe learning rate is\", lr, \"\\n****************************************\")\n",
    "    \n",
    "    while previous_step_size > precision and iters < max_iters:\n",
    "        prev_x = cur_x #Store current x value in prev_x\n",
    "        cur_x = cur_x - lr * df(prev_x) #Gradient descent\n",
    "        previous_step_size = abs(cur_x - prev_x) # 取較大的值, Change in x\n",
    "        iters = iters+1 #iteration count\n",
    "        \n",
    "        #print(\"Iteration\",iters,\", X value is\",cur_x) #Print iterations\n",
    "        \n",
    "        # Store parameters for plotting\n",
    "        iters_history.append(iters)\n",
    "        x_history.append(cur_x)\n",
    "    \n",
    "    print(\"Totally iteations: \", iters)\n",
    "    print(\"The local minimum occurs at\", cur_x,'\\n--------------------------------------------\\n\\n')\n",
    "    \n",
    "    plt.plot(iters_history, x_history, 'o-', ms=3, lw=1.5, color='black')\n",
    "    plt.xlabel(r'$iters$', fontsize=16)\n",
    "    plt.ylabel(r'$x$', fontsize=16)\n",
    "    plt.show()"
   ]
  },
  {
   "cell_type": "code",
   "execution_count": 4,
   "metadata": {},
   "outputs": [
    {
     "name": "stdout",
     "output_type": "stream",
     "text": [
      "****************************************\n",
      "The learning rate is 0.1 \n",
      "****************************************\n",
      "Totally iteations:  66\n",
      "The local minimum occurs at -4.999996786123911 \n",
      "--------------------------------------------\n",
      "\n",
      "\n"
     ]
    },
    {
     "data": {
      "image/png": "[encoded data removed]",
      "text/plain": [
       "<Figure size 432x288 with 1 Axes>"
      ]
     },
     "metadata": {
      "needs_background": "light"
     },
     "output_type": "display_data"
    },
    {
     "name": "stdout",
     "output_type": "stream",
     "text": [
      "****************************************\n",
      "The learning rate is 0.001 \n",
      "****************************************\n",
      "Totally iteations:  4837\n",
      "The local minimum occurs at -4.999501668667748 \n",
      "--------------------------------------------\n",
      "\n",
      "\n"
     ]
    },
    {
     "data": {
      "image/png": "[encoded data removed]",
      "text/plain": [
       "<Figure size 432x288 with 1 Axes>"
      ]
     },
     "metadata": {
      "needs_background": "light"
     },
     "output_type": "display_data"
    },
    {
     "name": "stdout",
     "output_type": "stream",
     "text": [
      "****************************************\n",
      "The learning rate is 0.0001 \n",
      "****************************************\n",
      "Totally iteations:  20000\n",
      "The local minimum occurs at -4.853533495026875 \n",
      "--------------------------------------------\n",
      "\n",
      "\n"
     ]
    },
    {
     "data": {
      "image/png": "[encoded data removed]",
      "text/plain": [
       "<Figure size 432x288 with 1 Axes>"
      ]
     },
     "metadata": {
      "needs_background": "light"
     },
     "output_type": "display_data"
    }
   ],
   "source": [
    "arrLr = [0.1, 0.001, 0.0001] # Learning rate\n",
    "\n",
    "for lr in arrLr:\n",
    "    GDFunction(lr)"
   ]
  },
  {
   "cell_type": "markdown",
   "metadata": {},
   "source": [
    "- Learning Rate 的值愈大, 迭代次數愈少次, 下降陂度十分快速\n",
    "- Learning Rate 的值愈小, 迭代次數愈多次 (一開始預設的最大迭代次數需很大, 不然即使跑到最大失代次數, 但仍無法到<b>極值點</b>), 下降坡度趨緩"
   ]
  },
  {
   "cell_type": "code",
   "execution_count": null,
   "metadata": {},
   "outputs": [],
   "source": []
  }
 ],
 "metadata": {
  "kernelspec": {
   "display_name": "Python 3",
   "language": "python",
   "name": "python3"
  },
  "language_info": {
   "codemirror_mode": {
    "name": "ipython",
    "version": 3
   },
   "file_extension": ".py",
   "mimetype": "text/x-python",
   "name": "python",
   "nbconvert_exporter": "python",
   "pygments_lexer": "ipython3",
   "version": "3.6.8"
  }
 },
 "nbformat": 4,
 "nbformat_minor": 2
}
