{
 "cells": [
  {
   "cell_type": "markdown",
   "metadata": {},
   "source": [
    "\n",
    "# 作業: \n",
    "    \n",
    "    (1)以, Adam, 為例, 調整 batch_size, epoch , 觀察accurancy, loss 的變化\n",
    "    \n",
    "    (2)以同一模型, 分別驗證 SGD, Adam, Rmsprop 的 accurancy"
   ]
  },
  {
   "cell_type": "code",
   "execution_count": 1,
   "metadata": {},
   "outputs": [
    {
     "name": "stderr",
     "output_type": "stream",
     "text": [
      "Using TensorFlow backend.\n"
     ]
    }
   ],
   "source": [
    "import keras\n",
    "#from keras.datasets import cifar10\n",
    "from keras.datasets import mnist \n",
    "from keras.preprocessing.image import ImageDataGenerator\n",
    "from keras.models import Sequential, load_model\n",
    "from keras.layers import Dense, Dropout, Activation, Flatten\n",
    "from keras.layers import Conv2D, MaxPooling2D\n",
    "from keras import optimizers\n",
    "from keras.callbacks import EarlyStopping, ModelCheckpoint\n",
    "import numpy \n",
    "\n",
    "import matplotlib.pyplot as plt\n",
    "%matplotlib inline\n",
    "\n",
    "import tensorflow as tf"
   ]
  },
  {
   "cell_type": "code",
   "execution_count": 2,
   "metadata": {},
   "outputs": [],
   "source": [
    "class OptModel:\n",
    "    def __init__(self):\n",
    "        # 第一步：選擇模型, 順序模型是多個網絡層的線性堆疊\n",
    "        self.model = Sequential()\n",
    "\n",
    "        # 第二步：構建網絡層\n",
    "        self.model.add(Dense( 500,input_shape=(784,))) # 輸入層，28*28=784   \n",
    "        self.model.add(Activation('relu')) # 激活函數是relu   \n",
    "\n",
    "        self.model.add(Dense( 500)) # 隱藏層節點500個   \n",
    "        self.model.add(Activation('relu'))  \n",
    "\n",
    "        self.model.add(Dense( 500)) # 隱藏層節點500個   \n",
    "        self.model.add(Activation('relu'))  \n",
    "\n",
    "        self.model.add(Dense( 500)) # 隱藏層節點500個   \n",
    "        self.model.add(Activation('relu'))  \n",
    "\n",
    "        self.model.add(Dense( 10)) # 輸出結果是10個類別，所以維度是10   \n",
    "        self.model.add(Activation('softmax')) # 最後一層用softmax作為激活函數\n",
    "    \n",
    "        # 模型建立完成後，統計參數總量\n",
    "        print(\"Total Parameters：%d\" % self.model.count_params())\n",
    "        \n",
    "        # 輸出模型摘要資訊\n",
    "        self.model.summary()\n",
    "    def comp(self, method, loss = 'binary_crossentropy', metrics = ['accuracy'], **kwargs):\n",
    "        if (method == 'adam'):\n",
    "            optimizer = optimizers.Adam(lr=kwargs['lr'], beta_1=kwargs['beta_1'], beta_2=kwargs['beta_2'], epsilon=kwargs['epsilon'], \\\n",
    "                                        decay=kwargs['decay'], amsgrad=kwargs['amsgrad'])\n",
    "        elif (method == 'sgd'):\n",
    "            optimizer = optimizers.SGD(lr = kwargs['lr'], momentum = kwargs['momentum'], decay = kwargs['decay'], \\\n",
    "                                       nesterov = kwargs['nesterov'])\n",
    "        elif (method == 'RMSProp'):\n",
    "            optimizer = optimizers.RMSprop(lr = kwargs['lr'], rho = kwargs['rho'], epsilon = kwargs['epsilon'], \\\n",
    "                                           decay = kwargs['decay'])\n",
    "        \n",
    "        self.model.compile(optimizer = optimizer, loss = loss, metrics = metrics)\n",
    "            \n",
    "        # 第四步：資料分割\n",
    "        # 使用Keras自帶的mnist工具讀取數據（第一次需要聯網）\n",
    "        (self.X_train, self.y_train), (self.X_test, self.y_test) = mnist.load_data() \n",
    "\n",
    "        # 由於mist的輸入數據維度是(num, 28 , 28)，這裡需要把後面的維度直接拼起來變成784維   \n",
    "        self.X_train = self.X_train.reshape(self.X_train.shape[0], self.X_train.shape[1] * self.X_train.shape[2 ])\n",
    "        self.X_test = self.X_test.reshape(self.X_test.shape[0], self.X_test.shape[1] * self.X_test.shape[2 ])  \n",
    "        self.Y_train = (numpy.arange(10) == self.y_train[:, None]).astype(int)\n",
    "        self.Y_test = (numpy.arange(10) == self.y_test[:, None]).astype(int)\n",
    "    def fit(self, batch_size, epochs):\n",
    "        # 第五步：訓練, 修正 model 參數\n",
    "        #Blas GEMM launch failed , 避免動態分配GPU / CPU, 出現問題\n",
    "        gpu_options = tf.GPUOptions(per_process_gpu_memory_fraction=0.333)\n",
    "        sess = tf.Session(config=tf.ConfigProto(gpu_options=gpu_options))\n",
    "\n",
    "\n",
    "        self.history = self.model.fit(self.X_train,self.Y_train,batch_size = batch_size, epochs=epochs, shuffle=True,verbose=2,validation_split=0.3)\n",
    "    def output(self):\n",
    "        # 第六步：輸出\n",
    "        print ( \" test set \" )\n",
    "        scores = self.model.evaluate(self.X_test,self.Y_test,batch_size=200,verbose= 0)\n",
    "        print ( \"\" )\n",
    "        #print ( \" The test loss is %f \" % scores)\n",
    "        print ( \" The test loss is %f \", scores)\n",
    "        self.result = self.model.predict(self.X_test,batch_size=200,verbose= 0)\n",
    "\n",
    "        self.result_max = numpy.argmax(self.result, axis = 1 )\n",
    "        self.test_max = numpy.argmax(self.Y_test, axis = 1 )\n",
    "\n",
    "        self.result_bool = numpy.equal(self.result_max, self.test_max)\n",
    "        self.true_num = numpy.sum(self.result_bool)\n",
    "        print ( \"\" )\n",
    "        print ( \" The accuracy of the model is %f \" % (self.true_num/len(self.result_bool)))\n",
    "    def picture(self):\n",
    "        # Plot training & validation accuracy values\n",
    "        plt.plot(self.history.history['acc'])\n",
    "        plt.plot(self.history.history['val_acc'])\n",
    "        plt.title('Model accuracy')\n",
    "        plt.ylabel('Accuracy')\n",
    "        plt.xlabel('Epoch')\n",
    "        plt.legend(['Train', 'Test'], loc='upper left')\n",
    "        plt.show()\n",
    "\n",
    "        # Plot training & validation loss values\n",
    "        plt.plot(self.history.history['loss'])\n",
    "        plt.plot(self.history.history['val_loss'])\n",
    "        plt.title('Model loss')\n",
    "        plt.ylabel('Loss')\n",
    "        plt.xlabel('Epoch')\n",
    "        plt.legend(['Train', 'Test'], loc='upper left')\n",
    "        plt.show()"
   ]
  },
  {
   "cell_type": "markdown",
   "metadata": {},
   "source": [
    "#### Adam - Arguments\n",
    "- lr: float >= 0. 学习率。\n",
    "- beta_1: float, 0 < beta < 1. 通常接近于 1。\n",
    "- beta_2: float, 0 < beta < 1. 通常接近于 1。\n",
    "- epsilon: float >= 0. 模糊因子. 若为 None, 默认为 K.epsilon()。\n",
    "- decay: float >= 0. 每次参数更新后学习率衰减值。\n",
    "- amsgrad: boolean. 是否应用此算法的 AMSGrad 变种，来自论文 \"On the Convergence of Adam and Beyond\"。\n",
    "\n",
    "#### SGD(隨機梯度下降) - Arguments\n",
    "- lr: float >= 0. 学习率。\n",
    "- momentum: float >= 0. 参数，用于加速 SGD 在相关方向上前进，并抑制震荡。\n",
    "- decay: float >= 0. 每次参数更新后学习率衰减值。\n",
    "- nesterov: boolean. 是否使用 Nesterov 动量。\n",
    "\n",
    "#### RMSprop- Arguments\n",
    "- lr: float >= 0. 学习率。\n",
    "- rho: float >= 0. RMSProp梯度平方的移动均值的衰减率.\n",
    "- epsilon: float >= 0. 模糊因子. 若为 None, 默认为 K.epsilon()。\n",
    "- decay: float >= 0. 每次参数更新后学习率衰减值。\n",
    "\n",
    "#### fit 的訓練\n",
    "- batch_size：對總的樣本數進行分組，每組包含的樣本數量\n",
    "- epochs ：訓練次數"
   ]
  },
  {
   "cell_type": "code",
   "execution_count": 3,
   "metadata": {},
   "outputs": [
    {
     "name": "stdout",
     "output_type": "stream",
     "text": [
      "Total Parameters：1149010\n",
      "_________________________________________________________________\n",
      "Layer (type)                 Output Shape              Param #   \n",
      "=================================================================\n",
      "dense_1 (Dense)              (None, 500)               392500    \n",
      "_________________________________________________________________\n",
      "activation_1 (Activation)    (None, 500)               0         \n",
      "_________________________________________________________________\n",
      "dense_2 (Dense)              (None, 500)               250500    \n",
      "_________________________________________________________________\n",
      "activation_2 (Activation)    (None, 500)               0         \n",
      "_________________________________________________________________\n",
      "dense_3 (Dense)              (None, 500)               250500    \n",
      "_________________________________________________________________\n",
      "activation_3 (Activation)    (None, 500)               0         \n",
      "_________________________________________________________________\n",
      "dense_4 (Dense)              (None, 500)               250500    \n",
      "_________________________________________________________________\n",
      "activation_4 (Activation)    (None, 500)               0         \n",
      "_________________________________________________________________\n",
      "dense_5 (Dense)              (None, 10)                5010      \n",
      "_________________________________________________________________\n",
      "activation_5 (Activation)    (None, 10)                0         \n",
      "=================================================================\n",
      "Total params: 1,149,010\n",
      "Trainable params: 1,149,010\n",
      "Non-trainable params: 0\n",
      "_________________________________________________________________\n",
      "Train on 42000 samples, validate on 18000 samples\n",
      "Epoch 1/15\n",
      " - 4s - loss: 2.8835 - acc: 0.8200 - val_loss: 2.8963 - val_acc: 0.8193\n",
      "Epoch 2/15\n",
      " - 3s - loss: 2.8847 - acc: 0.8200 - val_loss: 2.8963 - val_acc: 0.8193\n",
      "Epoch 3/15\n",
      " - 3s - loss: 2.8847 - acc: 0.8200 - val_loss: 2.8963 - val_acc: 0.8193\n",
      "Epoch 4/15\n",
      " - 3s - loss: 2.8847 - acc: 0.8200 - val_loss: 2.8963 - val_acc: 0.8193\n",
      "Epoch 5/15\n",
      " - 3s - loss: 2.8847 - acc: 0.8200 - val_loss: 2.8963 - val_acc: 0.8193\n",
      "Epoch 6/15\n",
      " - 3s - loss: 2.8847 - acc: 0.8200 - val_loss: 2.8963 - val_acc: 0.8193\n",
      "Epoch 7/15\n",
      " - 3s - loss: 2.8847 - acc: 0.8200 - val_loss: 2.8963 - val_acc: 0.8193\n",
      "Epoch 8/15\n",
      " - 3s - loss: 2.8847 - acc: 0.8200 - val_loss: 2.8963 - val_acc: 0.8193\n",
      "Epoch 9/15\n",
      " - 3s - loss: 2.8847 - acc: 0.8200 - val_loss: 2.8963 - val_acc: 0.8193\n",
      "Epoch 10/15\n",
      " - 3s - loss: 2.8847 - acc: 0.8200 - val_loss: 2.8963 - val_acc: 0.8193\n",
      "Epoch 11/15\n",
      " - 3s - loss: 2.8847 - acc: 0.8200 - val_loss: 2.8963 - val_acc: 0.8193\n",
      "Epoch 12/15\n",
      " - 3s - loss: 2.8847 - acc: 0.8200 - val_loss: 2.8963 - val_acc: 0.8193\n",
      "Epoch 13/15\n",
      " - 3s - loss: 2.8847 - acc: 0.8200 - val_loss: 2.8963 - val_acc: 0.8193\n",
      "Epoch 14/15\n",
      " - 3s - loss: 2.8847 - acc: 0.8200 - val_loss: 2.8963 - val_acc: 0.8193\n",
      "Epoch 15/15\n",
      " - 3s - loss: 2.8847 - acc: 0.8200 - val_loss: 2.8963 - val_acc: 0.8193\n",
      " test set \n",
      "\n",
      " The test loss is %f  [2.882557373046875, 0.8201800131797791]\n",
      "\n",
      " The accuracy of the model is 0.100900 \n"
     ]
    },
    {
     "data": {
      "image/png": "[encoded data removed]",
      "text/plain": [
       "<Figure size 432x288 with 1 Axes>"
      ]
     },
     "metadata": {
      "needs_background": "light"
     },
     "output_type": "display_data"
    },
    {
     "data": {
      "image/png": "[encoded data removed]",
      "text/plain": [
       "<Figure size 432x288 with 1 Axes>"
      ]
     },
     "metadata": {
      "needs_background": "light"
     },
     "output_type": "display_data"
    }
   ],
   "source": [
    "# 作業 1 ==> 以 Adam, 為例, 調整 batch_size, epoch , 觀察accurancy, loss 的變化\n",
    "model_adam = OptModel()\n",
    "model_adam.comp(method = 'adam', lr=0.002, beta_1=0.9, beta_2=0.999, epsilon=None, decay=0.0, amsgrad=False)\n",
    "model_adam.fit(batch_size = 88, epochs = 15)\n",
    "model_adam.output()\n",
    "model_adam.picture()"
   ]
  },
  {
   "cell_type": "code",
   "execution_count": 4,
   "metadata": {},
   "outputs": [
    {
     "name": "stdout",
     "output_type": "stream",
     "text": [
      "Total Parameters：1149010\n",
      "_________________________________________________________________\n",
      "Layer (type)                 Output Shape              Param #   \n",
      "=================================================================\n",
      "dense_6 (Dense)              (None, 500)               392500    \n",
      "_________________________________________________________________\n",
      "activation_6 (Activation)    (None, 500)               0         \n",
      "_________________________________________________________________\n",
      "dense_7 (Dense)              (None, 500)               250500    \n",
      "_________________________________________________________________\n",
      "activation_7 (Activation)    (None, 500)               0         \n",
      "_________________________________________________________________\n",
      "dense_8 (Dense)              (None, 500)               250500    \n",
      "_________________________________________________________________\n",
      "activation_8 (Activation)    (None, 500)               0         \n",
      "_________________________________________________________________\n",
      "dense_9 (Dense)              (None, 500)               250500    \n",
      "_________________________________________________________________\n",
      "activation_9 (Activation)    (None, 500)               0         \n",
      "_________________________________________________________________\n",
      "dense_10 (Dense)             (None, 10)                5010      \n",
      "_________________________________________________________________\n",
      "activation_10 (Activation)   (None, 10)                0         \n",
      "=================================================================\n",
      "Total params: 1,149,010\n",
      "Trainable params: 1,149,010\n",
      "Non-trainable params: 0\n",
      "_________________________________________________________________\n",
      "Train on 42000 samples, validate on 18000 samples\n",
      "Epoch 1/15\n",
      " - 3s - loss: 0.6962 - acc: 0.9308 - val_loss: 0.1925 - val_acc: 0.9731\n",
      "Epoch 2/15\n",
      " - 2s - loss: 0.1367 - acc: 0.9790 - val_loss: 0.1290 - val_acc: 0.9794\n",
      "Epoch 3/15\n",
      " - 3s - loss: 0.0842 - acc: 0.9852 - val_loss: 0.1187 - val_acc: 0.9800\n",
      "Epoch 4/15\n",
      " - 2s - loss: 0.0591 - acc: 0.9889 - val_loss: 0.0945 - val_acc: 0.9835\n",
      "Epoch 5/15\n",
      " - 3s - loss: 0.0434 - acc: 0.9913 - val_loss: 0.0884 - val_acc: 0.9841\n",
      "Epoch 6/15\n",
      " - 3s - loss: 0.0338 - acc: 0.9933 - val_loss: 0.0901 - val_acc: 0.9834\n",
      "Epoch 7/15\n",
      " - 3s - loss: 0.0268 - acc: 0.9947 - val_loss: 0.0834 - val_acc: 0.9847\n",
      "Epoch 8/15\n",
      " - 3s - loss: 0.0219 - acc: 0.9957 - val_loss: 0.0798 - val_acc: 0.9851\n",
      "Epoch 9/15\n",
      " - 2s - loss: 0.0183 - acc: 0.9964 - val_loss: 0.0775 - val_acc: 0.9854\n",
      "Epoch 10/15\n",
      " - 2s - loss: 0.0156 - acc: 0.9972 - val_loss: 0.0774 - val_acc: 0.9857\n",
      "Epoch 11/15\n",
      " - 2s - loss: 0.0136 - acc: 0.9977 - val_loss: 0.0769 - val_acc: 0.9859\n",
      "Epoch 12/15\n",
      " - 2s - loss: 0.0120 - acc: 0.9981 - val_loss: 0.0740 - val_acc: 0.9860\n",
      "Epoch 13/15\n",
      " - 2s - loss: 0.0105 - acc: 0.9984 - val_loss: 0.0746 - val_acc: 0.9860\n",
      "Epoch 14/15\n",
      " - 2s - loss: 0.0095 - acc: 0.9987 - val_loss: 0.0740 - val_acc: 0.9861\n",
      "Epoch 15/15\n",
      " - 2s - loss: 0.0087 - acc: 0.9989 - val_loss: 0.0728 - val_acc: 0.9864\n",
      " test set \n",
      "\n",
      " The test loss is %f  [0.06646621429012158, 0.9875400221347809]\n",
      "\n",
      " The accuracy of the model is 0.936800 \n"
     ]
    },
    {
     "data": {
      "image/png": "[encoded data removed]",
      "text/plain": [
       "<Figure size 432x288 with 1 Axes>"
      ]
     },
     "metadata": {
      "needs_background": "light"
     },
     "output_type": "display_data"
    },
    {
     "data": {
      "image/png": "[encoded data removed]",
      "text/plain": [
       "<Figure size 432x288 with 1 Axes>"
      ]
     },
     "metadata": {
      "needs_background": "light"
     },
     "output_type": "display_data"
    }
   ],
   "source": [
    "# 作業 2 ==> 以同一模型, 分別驗證 SGD, Adam, Rmsprop 的 accurancy\n",
    "# ==========> SGD\n",
    "model_adam = OptModel()\n",
    "model_adam.comp(method = 'sgd', lr = 0.002, momentum = 0.0, decay = 0.0, nesterov = False)\n",
    "model_adam.fit(batch_size = 88, epochs = 15)\n",
    "model_adam.output()\n",
    "model_adam.picture()"
   ]
  },
  {
   "cell_type": "code",
   "execution_count": 5,
   "metadata": {},
   "outputs": [
    {
     "name": "stdout",
     "output_type": "stream",
     "text": [
      "Total Parameters：1149010\n",
      "_________________________________________________________________\n",
      "Layer (type)                 Output Shape              Param #   \n",
      "=================================================================\n",
      "dense_11 (Dense)             (None, 500)               392500    \n",
      "_________________________________________________________________\n",
      "activation_11 (Activation)   (None, 500)               0         \n",
      "_________________________________________________________________\n",
      "dense_12 (Dense)             (None, 500)               250500    \n",
      "_________________________________________________________________\n",
      "activation_12 (Activation)   (None, 500)               0         \n",
      "_________________________________________________________________\n",
      "dense_13 (Dense)             (None, 500)               250500    \n",
      "_________________________________________________________________\n",
      "activation_13 (Activation)   (None, 500)               0         \n",
      "_________________________________________________________________\n",
      "dense_14 (Dense)             (None, 500)               250500    \n",
      "_________________________________________________________________\n",
      "activation_14 (Activation)   (None, 500)               0         \n",
      "_________________________________________________________________\n",
      "dense_15 (Dense)             (None, 10)                5010      \n",
      "_________________________________________________________________\n",
      "activation_15 (Activation)   (None, 10)                0         \n",
      "=================================================================\n",
      "Total params: 1,149,010\n",
      "Trainable params: 1,149,010\n",
      "Non-trainable params: 0\n",
      "_________________________________________________________________\n",
      "Train on 42000 samples, validate on 18000 samples\n",
      "Epoch 1/15\n",
      " - 3s - loss: 2.8387 - acc: 0.8228 - val_loss: 2.8600 - val_acc: 0.8216\n",
      "Epoch 2/15\n",
      " - 3s - loss: 2.8397 - acc: 0.8229 - val_loss: 2.8600 - val_acc: 0.8216\n",
      "Epoch 3/15\n",
      " - 3s - loss: 2.8397 - acc: 0.8229 - val_loss: 2.8600 - val_acc: 0.8216\n",
      "Epoch 4/15\n",
      " - 3s - loss: 2.8397 - acc: 0.8229 - val_loss: 2.8600 - val_acc: 0.8216\n",
      "Epoch 5/15\n",
      " - 3s - loss: 2.8397 - acc: 0.8229 - val_loss: 2.8600 - val_acc: 0.8216\n",
      "Epoch 6/15\n",
      " - 3s - loss: 2.8397 - acc: 0.8229 - val_loss: 2.8600 - val_acc: 0.8216\n",
      "Epoch 7/15\n",
      " - 3s - loss: 2.8397 - acc: 0.8229 - val_loss: 2.8600 - val_acc: 0.8216\n",
      "Epoch 8/15\n",
      " - 3s - loss: 2.8397 - acc: 0.8229 - val_loss: 2.8600 - val_acc: 0.8216\n",
      "Epoch 9/15\n",
      " - 3s - loss: 2.8397 - acc: 0.8229 - val_loss: 2.8600 - val_acc: 0.8216\n",
      "Epoch 10/15\n",
      " - 3s - loss: 2.8397 - acc: 0.8229 - val_loss: 2.8600 - val_acc: 0.8216\n",
      "Epoch 11/15\n",
      " - 3s - loss: 2.8397 - acc: 0.8229 - val_loss: 2.8600 - val_acc: 0.8216\n",
      "Epoch 12/15\n",
      " - 3s - loss: 2.8397 - acc: 0.8229 - val_loss: 2.8600 - val_acc: 0.8216\n",
      "Epoch 13/15\n",
      " - 3s - loss: 2.8397 - acc: 0.8229 - val_loss: 2.8600 - val_acc: 0.8216\n",
      "Epoch 14/15\n",
      " - 3s - loss: 2.8397 - acc: 0.8229 - val_loss: 2.8600 - val_acc: 0.8216\n",
      "Epoch 15/15\n",
      " - 3s - loss: 2.8397 - acc: 0.8229 - val_loss: 2.8600 - val_acc: 0.8216\n",
      " test set \n",
      "\n",
      " The test loss is %f  [2.8421611833572387, 0.8227000069618225]\n",
      "\n",
      " The accuracy of the model is 0.113500 \n"
     ]
    },
    {
     "data": {
      "image/png": "[encoded data removed]",
      "text/plain": [
       "<Figure size 432x288 with 1 Axes>"
      ]
     },
     "metadata": {
      "needs_background": "light"
     },
     "output_type": "display_data"
    },
    {
     "data": {
      "image/png": "[encoded data removed]",
      "text/plain": [
       "<Figure size 432x288 with 1 Axes>"
      ]
     },
     "metadata": {
      "needs_background": "light"
     },
     "output_type": "display_data"
    }
   ],
   "source": [
    "# ==========> Rmsprop\n",
    "model_adam = OptModel()\n",
    "model_adam.comp(method = 'RMSProp', lr = 0.002, rho = 0.9, epsilon = None, decay = 0.0)\n",
    "model_adam.fit(batch_size = 88, epochs = 15)\n",
    "model_adam.output()\n",
    "model_adam.picture()"
   ]
  },
  {
   "cell_type": "code",
   "execution_count": null,
   "metadata": {},
   "outputs": [],
   "source": []
  }
 ],
 "metadata": {
  "kernelspec": {
   "display_name": "Python 3",
   "language": "python",
   "name": "python3"
  },
  "language_info": {
   "codemirror_mode": {
    "name": "ipython",
    "version": 3
   },
   "file_extension": ".py",
   "mimetype": "text/x-python",
   "name": "python",
   "nbconvert_exporter": "python",
   "pygments_lexer": "ipython3",
   "version": "3.6.8"
  }
 },
 "nbformat": 4,
 "nbformat_minor": 2
}
