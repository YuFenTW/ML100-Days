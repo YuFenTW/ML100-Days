{
 "cells": [
  {
   "cell_type": "markdown",
   "metadata": {},
   "source": [
    "## Work\n",
    "1. 請嘗試將 preproc_x 替換成以每筆資料的 min/max 進行標準化至 -1 ~ 1 間，再進行訓練\n",
    "2. 請嘗試將 mlp 疊更深 (e.g 5~10 層)，進行訓練後觀察 learning curve 的走勢\n",
    "3. (optional) 請改用 GPU 進行訓練 (如果你有 GPU 的話)，比較使用 CPU 與 GPU 的訓練速度        "
   ]
  },
  {
   "cell_type": "code",
   "execution_count": 1,
   "metadata": {},
   "outputs": [],
   "source": [
    "## 確認硬體資源 (僅適用於 mac / linux)\n",
    "# !nvidia-smi"
   ]
  },
  {
   "cell_type": "code",
   "execution_count": 2,
   "metadata": {},
   "outputs": [
    {
     "name": "stderr",
     "output_type": "stream",
     "text": [
      "Using TensorFlow backend.\n"
     ]
    }
   ],
   "source": [
    "import os\n",
    "import keras\n",
    "import numpy as np\n",
    "\n",
    "# 防止調用 GPU 報錯：Blas GEMM launch failed\n",
    "import tensorflow as tf\n",
    "from keras.backend.tensorflow_backend import set_session\n",
    "config = tf.ConfigProto()\n",
    "config.gpu_options.allocator_type = 'BFC' #A \"Best-fit with coalescing\" algorithm, simplified from a version of dlmalloc.\n",
    "config.gpu_options.per_process_gpu_memory_fraction = 0.3  #佔用 GPU 30% 的記憶體資源\n",
    "config.gpu_options.allow_growth = True\n",
    "set_session(tf.Session(config=config))\n",
    "\n",
    "# Disable GPU\n",
    "# os.environ[\"CUDA_VISIBLE_DEVICES\"] = \"\""
   ]
  },
  {
   "cell_type": "code",
   "execution_count": 3,
   "metadata": {},
   "outputs": [],
   "source": [
    "train, test = keras.datasets.cifar10.load_data()"
   ]
  },
  {
   "cell_type": "code",
   "execution_count": 4,
   "metadata": {},
   "outputs": [],
   "source": [
    "## 資料前處理\n",
    "# 以每筆資料的 min/max 進行標準化至 -1 ~ 1 間\n",
    "def preproc_x(x, flatten=True):\n",
    "    average = np.mean(x)\n",
    "    if (x > average).any():\n",
    "        negative = 1\n",
    "    elif (x < average).any():\n",
    "        negative = 0\n",
    "    elif (x < average).any():\n",
    "        negative = -1\n",
    "    x = (x - average) / (np.max(x) - np.min(x)) * 2. * negative\n",
    "    if flatten:\n",
    "        x = x.reshape((len(x), -1))\n",
    "    return x\n",
    "\n",
    "def preproc_y(y, num_classes=10):\n",
    "    if y.shape[-1] == 1:\n",
    "        y = keras.utils.to_categorical(y, num_classes)\n",
    "    return y    "
   ]
  },
  {
   "cell_type": "code",
   "execution_count": 5,
   "metadata": {},
   "outputs": [],
   "source": [
    "x_train, y_train = train\n",
    "x_test, y_test = test\n",
    "\n",
    "# Preproc the inputs\n",
    "x_train = preproc_x(x_train)\n",
    "x_test = preproc_x(x_test)\n",
    "\n",
    "# Preprc the outputs\n",
    "y_train = preproc_y(y_train)\n",
    "y_test = preproc_y(y_test)"
   ]
  },
  {
   "cell_type": "code",
   "execution_count": 6,
   "metadata": {},
   "outputs": [],
   "source": [
    "def build_mlp(input_shape, output_units=10, num_neurons=[512, 512, 512, 512, 512, 256, 128]):\n",
    "    input_layer = keras.layers.Input(input_shape)\n",
    "    \n",
    "    for i, n_units in enumerate(num_neurons):\n",
    "        if i == 0:\n",
    "            x = keras.layers.Dense(units=n_units, activation=\"relu\", name=\"hidden_layer\"+str(i+1))(input_layer)\n",
    "        else:\n",
    "            x = keras.layers.Dense(units=n_units, activation=\"relu\", name=\"hidden_layer\"+str(i+1))(x)\n",
    "    \n",
    "    out = keras.layers.Dense(units=output_units, activation=\"softmax\", name=\"output\")(x)\n",
    "    \n",
    "    model = keras.models.Model(inputs=[input_layer], outputs=[out])\n",
    "    return model"
   ]
  },
  {
   "cell_type": "code",
   "execution_count": 7,
   "metadata": {},
   "outputs": [
    {
     "name": "stdout",
     "output_type": "stream",
     "text": [
      "_________________________________________________________________\n",
      "Layer (type)                 Output Shape              Param #   \n",
      "=================================================================\n",
      "input_1 (InputLayer)         (None, 3072)              0         \n",
      "_________________________________________________________________\n",
      "hidden_layer1 (Dense)        (None, 512)               1573376   \n",
      "_________________________________________________________________\n",
      "hidden_layer2 (Dense)        (None, 512)               262656    \n",
      "_________________________________________________________________\n",
      "hidden_layer3 (Dense)        (None, 512)               262656    \n",
      "_________________________________________________________________\n",
      "hidden_layer4 (Dense)        (None, 512)               262656    \n",
      "_________________________________________________________________\n",
      "hidden_layer5 (Dense)        (None, 512)               262656    \n",
      "_________________________________________________________________\n",
      "hidden_layer6 (Dense)        (None, 256)               131328    \n",
      "_________________________________________________________________\n",
      "hidden_layer7 (Dense)        (None, 128)               32896     \n",
      "_________________________________________________________________\n",
      "output (Dense)               (None, 10)                1290      \n",
      "=================================================================\n",
      "Total params: 2,789,514\n",
      "Trainable params: 2,789,514\n",
      "Non-trainable params: 0\n",
      "_________________________________________________________________\n"
     ]
    }
   ],
   "source": [
    "model = build_mlp(input_shape=x_train.shape[1:])\n",
    "model.summary()"
   ]
  },
  {
   "cell_type": "code",
   "execution_count": 8,
   "metadata": {},
   "outputs": [],
   "source": [
    "## 超參數設定\n",
    "LEARNING_RATE = 0.001\n",
    "EPOCHS = 100\n",
    "BATCH_SIZE = 256"
   ]
  },
  {
   "cell_type": "code",
   "execution_count": 9,
   "metadata": {},
   "outputs": [],
   "source": [
    "optimizer = keras.optimizers.Adam(lr=LEARNING_RATE)\n",
    "model.compile(loss=\"categorical_crossentropy\", metrics=[\"accuracy\"], optimizer=optimizer)"
   ]
  },
  {
   "cell_type": "code",
   "execution_count": 10,
   "metadata": {},
   "outputs": [
    {
     "name": "stdout",
     "output_type": "stream",
     "text": [
      "Train on 50000 samples, validate on 10000 samples\n",
      "Epoch 1/100\n",
      "50000/50000 [==============================] - 5s 102us/step - loss: 1.8000e-04 - acc: 0.0205 - val_loss: 1.0000 - val_acc: 0.6911\n",
      "Epoch 2/100\n",
      "50000/50000 [==============================] - 3s 66us/step - loss: 0.0000e+00 - acc: 0.0171 - val_loss: 1.0000 - val_acc: 0.7038\n",
      "Epoch 3/100\n",
      "50000/50000 [==============================] - 3s 65us/step - loss: 0.0000e+00 - acc: 0.0163 - val_loss: 1.0000 - val_acc: 0.6846\n",
      "Epoch 4/100\n",
      "50000/50000 [==============================] - 3s 63us/step - loss: 0.0000e+00 - acc: 0.0126 - val_loss: 1.0000 - val_acc: 0.6528\n",
      "Epoch 5/100\n",
      "50000/50000 [==============================] - 3s 59us/step - loss: 0.0000e+00 - acc: 0.0158 - val_loss: 1.0000 - val_acc: 0.7295\n",
      "Epoch 6/100\n",
      "50000/50000 [==============================] - 3s 59us/step - loss: 0.0000e+00 - acc: 0.0193 - val_loss: 1.0000 - val_acc: 0.7575\n",
      "Epoch 7/100\n",
      "50000/50000 [==============================] - 3s 59us/step - loss: 0.0000e+00 - acc: 0.0087 - val_loss: 1.0000 - val_acc: 0.7038\n",
      "Epoch 8/100\n",
      "50000/50000 [==============================] - 3s 59us/step - loss: 1.4000e-04 - acc: 0.0054 - val_loss: 1.0000 - val_acc: 0.7104\n",
      "Epoch 9/100\n",
      "50000/50000 [==============================] - 3s 59us/step - loss: 0.0000e+00 - acc: 0.0072 - val_loss: 1.0000 - val_acc: 0.7486\n",
      "Epoch 10/100\n",
      "50000/50000 [==============================] - 3s 63us/step - loss: 0.0000e+00 - acc: 0.0107 - val_loss: 1.0000 - val_acc: 0.6525\n",
      "Epoch 11/100\n",
      "50000/50000 [==============================] - 3s 61us/step - loss: 0.0000e+00 - acc: 0.0077 - val_loss: 1.0000 - val_acc: 0.5782\n",
      "Epoch 12/100\n",
      "50000/50000 [==============================] - 3s 62us/step - loss: 0.0000e+00 - acc: 0.0184 - val_loss: 1.0000 - val_acc: 0.6517\n",
      "Epoch 13/100\n",
      "50000/50000 [==============================] - 3s 69us/step - loss: 0.0000e+00 - acc: 0.0085 - val_loss: 1.0000 - val_acc: 0.6463\n",
      "Epoch 14/100\n",
      "50000/50000 [==============================] - 3s 66us/step - loss: 0.0000e+00 - acc: 0.0161 - val_loss: 1.0000 - val_acc: 0.7232\n",
      "Epoch 15/100\n",
      "50000/50000 [==============================] - 3s 60us/step - loss: 1.4000e-04 - acc: 0.0138 - val_loss: 1.0000 - val_acc: 0.7294\n",
      "Epoch 16/100\n",
      "50000/50000 [==============================] - 3s 61us/step - loss: 0.0000e+00 - acc: 0.0159 - val_loss: 1.0000 - val_acc: 1.2750\n",
      "Epoch 17/100\n",
      "50000/50000 [==============================] - 3s 59us/step - loss: 1.6000e-04 - acc: 0.0126 - val_loss: 1.0000 - val_acc: 1.3364\n",
      "Epoch 18/100\n",
      "50000/50000 [==============================] - 3s 59us/step - loss: 0.0000e+00 - acc: 0.0077 - val_loss: 1.0000 - val_acc: 1.8560\n",
      "Epoch 19/100\n",
      "50000/50000 [==============================] - 3s 62us/step - loss: 0.0000e+00 - acc: 0.0160 - val_loss: 1.0000 - val_acc: 1.2665\n",
      "Epoch 20/100\n",
      "50000/50000 [==============================] - 3s 69us/step - loss: 0.0000e+00 - acc: 0.0054 - val_loss: 1.0000 - val_acc: 1.3501\n",
      "Epoch 21/100\n",
      "50000/50000 [==============================] - 4s 70us/step - loss: 0.0000e+00 - acc: 0.0087 - val_loss: 1.0000 - val_acc: 1.2991\n",
      "Epoch 22/100\n",
      "50000/50000 [==============================] - 4s 71us/step - loss: 1.6000e-04 - acc: 0.1221 - val_loss: 1.0000 - val_acc: 1.0493\n",
      "Epoch 23/100\n",
      "50000/50000 [==============================] - 4s 84us/step - loss: 0.0129 - acc: 0.0965 - val_loss: 1.0000 - val_acc: 1.7586\n",
      "Epoch 24/100\n",
      "50000/50000 [==============================] - 3s 62us/step - loss: 0.0000e+00 - acc: 0.1487 - val_loss: 1.0000 - val_acc: 0.7688\n",
      "Epoch 25/100\n",
      "50000/50000 [==============================] - 3s 64us/step - loss: 0.0000e+00 - acc: 0.1229 - val_loss: 1.0000 - val_acc: 0.6903\n",
      "Epoch 26/100\n",
      "50000/50000 [==============================] - 3s 69us/step - loss: 0.0000e+00 - acc: 0.1056 - val_loss: 1.0000 - val_acc: 0.6748\n",
      "Epoch 27/100\n",
      "50000/50000 [==============================] - 3s 64us/step - loss: 0.0000e+00 - acc: 0.2884 - val_loss: 1.0000 - val_acc: 0.8094\n",
      "Epoch 28/100\n",
      "50000/50000 [==============================] - 3s 66us/step - loss: 0.0031 - acc: 0.1213 - val_loss: 1.0000 - val_acc: 0.7995\n",
      "Epoch 29/100\n",
      "50000/50000 [==============================] - 3s 61us/step - loss: 0.0000e+00 - acc: 0.1991 - val_loss: 1.0000 - val_acc: 0.4272\n",
      "Epoch 30/100\n",
      "50000/50000 [==============================] - 3s 59us/step - loss: 0.0067 - acc: 0.1127 - val_loss: 1.0000 - val_acc: 0.5090\n",
      "Epoch 31/100\n",
      "50000/50000 [==============================] - 3s 58us/step - loss: 0.0031 - acc: 0.0899 - val_loss: 1.0000 - val_acc: 0.6874\n",
      "Epoch 32/100\n",
      "50000/50000 [==============================] - 3s 60us/step - loss: 0.0000e+00 - acc: 0.0934 - val_loss: 1.0000 - val_acc: 0.7204\n",
      "Epoch 33/100\n",
      "50000/50000 [==============================] - 3s 64us/step - loss: 0.0033 - acc: 0.1435 - val_loss: 1.0000 - val_acc: 0.9271\n",
      "Epoch 34/100\n",
      "50000/50000 [==============================] - 3s 63us/step - loss: 0.0000e+00 - acc: 0.2379 - val_loss: 1.0000 - val_acc: 0.6774\n",
      "Epoch 35/100\n",
      "50000/50000 [==============================] - 3s 65us/step - loss: 0.0000e+00 - acc: 0.1017 - val_loss: 1.0000 - val_acc: 0.7367\n",
      "Epoch 36/100\n",
      "50000/50000 [==============================] - 3s 67us/step - loss: 0.0000e+00 - acc: 0.0952 - val_loss: 1.0000 - val_acc: 0.5855\n",
      "Epoch 37/100\n",
      "50000/50000 [==============================] - 4s 75us/step - loss: 0.0026 - acc: 0.4510 - val_loss: 1.0000 - val_acc: 0.8160\n",
      "Epoch 38/100\n",
      "50000/50000 [==============================] - 3s 61us/step - loss: 0.0000e+00 - acc: 0.0983 - val_loss: 1.0000 - val_acc: 0.7085\n",
      "Epoch 39/100\n",
      "50000/50000 [==============================] - 3s 62us/step - loss: 0.0000e+00 - acc: 0.0014 - val_loss: 1.0000 - val_acc: 0.7559\n",
      "Epoch 40/100\n",
      "50000/50000 [==============================] - 3s 69us/step - loss: 3.5498e-04 - acc: 0.1588 - val_loss: 1.0000 - val_acc: 0.5646\n",
      "Epoch 41/100\n",
      "50000/50000 [==============================] - 3s 65us/step - loss: 0.0000e+00 - acc: 0.1836 - val_loss: 1.0000 - val_acc: 0.7623\n",
      "Epoch 42/100\n",
      "50000/50000 [==============================] - 3s 61us/step - loss: 0.0015 - acc: 0.1280 - val_loss: 1.0000 - val_acc: 0.9078\n",
      "Epoch 43/100\n",
      "50000/50000 [==============================] - 4s 70us/step - loss: -0.0029 - acc: 0.1674 - val_loss: 1.0000 - val_acc: 0.7117\n",
      "Epoch 44/100\n",
      "50000/50000 [==============================] - 4s 73us/step - loss: 0.0031 - acc: 0.1849 - val_loss: 1.0000 - val_acc: 2.1613\n",
      "Epoch 45/100\n",
      "50000/50000 [==============================] - 3s 68us/step - loss: -0.8996 - acc: -0.8887 - val_loss: 1.0000 - val_acc: -2.6558\n",
      "Epoch 46/100\n",
      "50000/50000 [==============================] - 3s 60us/step - loss: -5.0723e-04 - acc: 0.0051 - val_loss: 1.0000 - val_acc: -11.4389\n",
      "Epoch 47/100\n",
      "50000/50000 [==============================] - 3s 63us/step - loss: 0.0000e+00 - acc: -0.0157 - val_loss: 1.0000 - val_acc: -3.2479\n",
      "Epoch 48/100\n",
      "50000/50000 [==============================] - 3s 60us/step - loss: 0.0000e+00 - acc: 0.0391 - val_loss: 1.0000 - val_acc: -16.0268\n",
      "Epoch 49/100\n",
      "50000/50000 [==============================] - 3s 58us/step - loss: 0.0000e+00 - acc: 0.0260 - val_loss: 1.0000 - val_acc: -8.0041\n",
      "Epoch 50/100\n",
      "50000/50000 [==============================] - 3s 65us/step - loss: 0.0000e+00 - acc: 0.0118 - val_loss: 1.0000 - val_acc: -2.1055\n",
      "Epoch 51/100\n",
      "50000/50000 [==============================] - 3s 66us/step - loss: 0.0000e+00 - acc: 0.0049 - val_loss: 1.0000 - val_acc: -3.7743\n",
      "Epoch 52/100\n",
      "50000/50000 [==============================] - 3s 65us/step - loss: 0.0000e+00 - acc: 0.0085 - val_loss: 1.0000 - val_acc: -4.4080\n",
      "Epoch 53/100\n",
      "50000/50000 [==============================] - 3s 61us/step - loss: 0.0000e+00 - acc: 0.0159 - val_loss: 1.0000 - val_acc: -3.2710\n",
      "Epoch 54/100\n",
      "50000/50000 [==============================] - 3s 60us/step - loss: 0.0000e+00 - acc: 0.0175 - val_loss: 1.0000 - val_acc: -2.1911\n",
      "Epoch 55/100\n",
      "50000/50000 [==============================] - 3s 60us/step - loss: 0.0000e+00 - acc: 0.0162 - val_loss: 1.0000 - val_acc: -1.9280\n",
      "Epoch 56/100\n",
      "50000/50000 [==============================] - 3s 60us/step - loss: 0.0000e+00 - acc: 0.0102 - val_loss: 1.0000 - val_acc: -2.3002\n",
      "Epoch 57/100\n",
      "50000/50000 [==============================] - 3s 64us/step - loss: 1.6000e-04 - acc: 0.0117 - val_loss: 1.0000 - val_acc: -2.0858\n",
      "Epoch 58/100\n"
     ]
    },
    {
     "name": "stdout",
     "output_type": "stream",
     "text": [
      "50000/50000 [==============================] - 3s 61us/step - loss: 0.0000e+00 - acc: 0.0202 - val_loss: 1.0000 - val_acc: -0.9281\n",
      "Epoch 59/100\n",
      "50000/50000 [==============================] - 3s 61us/step - loss: 0.0000e+00 - acc: 0.0218 - val_loss: 1.0000 - val_acc: -2.2566\n",
      "Epoch 60/100\n",
      "50000/50000 [==============================] - 3s 62us/step - loss: 0.0000e+00 - acc: -0.0042 - val_loss: 1.0000 - val_acc: -0.7271\n",
      "Epoch 61/100\n",
      "50000/50000 [==============================] - 3s 62us/step - loss: 0.0000e+00 - acc: 9.9398e-04 - val_loss: 1.0000 - val_acc: -1.4190\n",
      "Epoch 62/100\n",
      "50000/50000 [==============================] - 3s 61us/step - loss: 0.0000e+00 - acc: 0.0232 - val_loss: 1.0000 - val_acc: -1.5149\n",
      "Epoch 63/100\n",
      "50000/50000 [==============================] - 3s 61us/step - loss: 1.4000e-04 - acc: 0.0063 - val_loss: 1.0000 - val_acc: -2.9668\n",
      "Epoch 64/100\n",
      "50000/50000 [==============================] - 3s 64us/step - loss: 0.0000e+00 - acc: -0.0026 - val_loss: 1.0000 - val_acc: -2.0908\n",
      "Epoch 65/100\n",
      "50000/50000 [==============================] - 3s 67us/step - loss: 0.0000e+00 - acc: 0.0388 - val_loss: 1.0000 - val_acc: -1.8609\n",
      "Epoch 66/100\n",
      "50000/50000 [==============================] - 3s 63us/step - loss: 1.6000e-04 - acc: 0.0113 - val_loss: 1.0000 - val_acc: -0.8889\n",
      "Epoch 67/100\n",
      "50000/50000 [==============================] - 3s 64us/step - loss: 0.0000e+00 - acc: 0.1546 - val_loss: 1.0000 - val_acc: -1.6530\n",
      "Epoch 68/100\n",
      "50000/50000 [==============================] - 3s 62us/step - loss: 0.0000e+00 - acc: -0.1639 - val_loss: 1.0000 - val_acc: -3.1716\n",
      "Epoch 69/100\n",
      "50000/50000 [==============================] - 3s 63us/step - loss: -0.0163 - acc: 0.0433 - val_loss: 1.0000 - val_acc: -3.6777\n",
      "Epoch 70/100\n",
      "50000/50000 [==============================] - 3s 63us/step - loss: 0.0000e+00 - acc: 0.1050 - val_loss: 1.0000 - val_acc: -0.0441\n",
      "Epoch 71/100\n",
      "50000/50000 [==============================] - 3s 59us/step - loss: 0.0000e+00 - acc: 0.0161 - val_loss: 1.0000 - val_acc: -5.5085\n",
      "Epoch 72/100\n",
      "50000/50000 [==============================] - 3s 60us/step - loss: -0.0237 - acc: 0.1118 - val_loss: 1.0000 - val_acc: -3.0518\n",
      "Epoch 73/100\n",
      "50000/50000 [==============================] - 3s 58us/step - loss: 0.0000e+00 - acc: 0.0900 - val_loss: 1.0000 - val_acc: -1.2383\n",
      "Epoch 74/100\n",
      "50000/50000 [==============================] - 3s 59us/step - loss: 0.0000e+00 - acc: 0.0274 - val_loss: 1.0000 - val_acc: -2.4638\n",
      "Epoch 75/100\n",
      "50000/50000 [==============================] - 3s 59us/step - loss: 0.0000e+00 - acc: -0.5900 - val_loss: 1.0000 - val_acc: -2.6077\n",
      "Epoch 76/100\n",
      "50000/50000 [==============================] - 3s 58us/step - loss: -0.0212 - acc: -0.0954 - val_loss: 1.0000 - val_acc: -2.8700\n",
      "Epoch 77/100\n",
      "50000/50000 [==============================] - 3s 65us/step - loss: 0.0000e+00 - acc: -0.0572 - val_loss: 1.0000 - val_acc: -2.5775\n",
      "Epoch 78/100\n",
      "50000/50000 [==============================] - 3s 66us/step - loss: 0.0000e+00 - acc: 0.0826 - val_loss: 1.0000 - val_acc: -2.7594\n",
      "Epoch 79/100\n",
      "50000/50000 [==============================] - 4s 72us/step - loss: 0.0000e+00 - acc: 0.0504 - val_loss: 1.0000 - val_acc: -3.3102\n",
      "Epoch 80/100\n",
      "50000/50000 [==============================] - 3s 64us/step - loss: 0.0053 - acc: 0.0417 - val_loss: 1.0000 - val_acc: -4.3364\n",
      "Epoch 81/100\n",
      "50000/50000 [==============================] - 3s 69us/step - loss: 0.0046 - acc: 0.0402 - val_loss: 1.0000 - val_acc: 1.6848\n",
      "Epoch 82/100\n",
      "50000/50000 [==============================] - 3s 63us/step - loss: 0.0071 - acc: 0.0114 - val_loss: 1.0000 - val_acc: 1.8541\n",
      "Epoch 83/100\n",
      "50000/50000 [==============================] - 3s 61us/step - loss: 6.9071e-04 - acc: 0.0386 - val_loss: 1.0000 - val_acc: 1.5527\n",
      "Epoch 84/100\n",
      "50000/50000 [==============================] - 3s 68us/step - loss: 0.0000e+00 - acc: 0.0335 - val_loss: 1.0000 - val_acc: 1.7818\n",
      "Epoch 85/100\n",
      "50000/50000 [==============================] - 3s 68us/step - loss: 0.0000e+00 - acc: -0.0481 - val_loss: 1.0000 - val_acc: 2.3997\n",
      "Epoch 86/100\n",
      "50000/50000 [==============================] - 3s 66us/step - loss: 0.0034 - acc: 0.0625 - val_loss: 1.0000 - val_acc: 2.0241\n",
      "Epoch 87/100\n",
      "50000/50000 [==============================] - 4s 70us/step - loss: 0.0026 - acc: -0.0354 - val_loss: 1.0000 - val_acc: 1.6168\n",
      "Epoch 88/100\n",
      "50000/50000 [==============================] - 3s 66us/step - loss: -0.0035 - acc: 0.0163 - val_loss: 1.0000 - val_acc: 1.8290\n",
      "Epoch 89/100\n",
      "50000/50000 [==============================] - 3s 65us/step - loss: 0.0000e+00 - acc: 0.0239 - val_loss: 1.0000 - val_acc: 2.0966\n",
      "Epoch 90/100\n",
      "50000/50000 [==============================] - 3s 65us/step - loss: -0.0051 - acc: -0.0057 - val_loss: 1.0000 - val_acc: 1.6775\n",
      "Epoch 91/100\n",
      "50000/50000 [==============================] - 3s 64us/step - loss: 0.0000e+00 - acc: 0.0118 - val_loss: 1.0000 - val_acc: 1.8559\n",
      "Epoch 92/100\n",
      "50000/50000 [==============================] - 3s 66us/step - loss: -0.0129 - acc: 0.0251 - val_loss: 1.0000 - val_acc: 1.8234\n",
      "Epoch 93/100\n",
      "50000/50000 [==============================] - 3s 67us/step - loss: -0.0064 - acc: 0.0845 - val_loss: 1.0000 - val_acc: 1.4860\n",
      "Epoch 94/100\n",
      "50000/50000 [==============================] - 3s 67us/step - loss: 0.0000e+00 - acc: -0.0289 - val_loss: 1.0000 - val_acc: 1.6822\n",
      "Epoch 95/100\n",
      "50000/50000 [==============================] - 3s 63us/step - loss: -0.0109 - acc: 0.0438 - val_loss: 1.0000 - val_acc: 2.1684\n",
      "Epoch 96/100\n",
      "50000/50000 [==============================] - 3s 66us/step - loss: 0.0000e+00 - acc: 0.0422 - val_loss: 1.0000 - val_acc: 21.0787\n",
      "Epoch 97/100\n",
      "50000/50000 [==============================] - 3s 67us/step - loss: 0.0000e+00 - acc: 0.0234 - val_loss: 1.0000 - val_acc: 0.9019\n",
      "Epoch 98/100\n",
      "50000/50000 [==============================] - 3s 67us/step - loss: 0.0097 - acc: 0.0809 - val_loss: 1.0000 - val_acc: 1.0558\n",
      "Epoch 99/100\n",
      "50000/50000 [==============================] - 3s 69us/step - loss: 0.0000e+00 - acc: -0.0451 - val_loss: 1.0000 - val_acc: 1.1401\n",
      "Epoch 100/100\n",
      "50000/50000 [==============================] - 3s 67us/step - loss: 0.0114 - acc: 0.0282 - val_loss: 1.0000 - val_acc: 1.2022\n"
     ]
    },
    {
     "data": {
      "text/plain": [
       "<keras.callbacks.History at 0x2430bc48748>"
      ]
     },
     "execution_count": 10,
     "metadata": {},
     "output_type": "execute_result"
    }
   ],
   "source": [
    "model.fit(x_train, y_train, \n",
    "          epochs=EPOCHS, \n",
    "          batch_size=BATCH_SIZE, \n",
    "          validation_data=(x_test, y_test), \n",
    "          shuffle=True)"
   ]
  },
  {
   "cell_type": "code",
   "execution_count": 12,
   "metadata": {},
   "outputs": [
    {
     "data": {
      "image/png": "[encoded data removed]",
      "text/plain": [
       "<Figure size 432x288 with 1 Axes>"
      ]
     },
     "metadata": {
      "needs_background": "light"
     },
     "output_type": "display_data"
    },
    {
     "data": {
      "image/png": "[encoded data removed]",
      "text/plain": [
       "<Figure size 432x288 with 1 Axes>"
      ]
     },
     "metadata": {
      "needs_background": "light"
     },
     "output_type": "display_data"
    }
   ],
   "source": [
    "import matplotlib.pyplot as plt\n",
    "\n",
    "\n",
    "train_loss = model.history.history[\"loss\"]\n",
    "valid_loss = model.history.history[\"val_loss\"]\n",
    "\n",
    "train_acc = model.history.history[\"acc\"]\n",
    "valid_acc = model.history.history[\"val_acc\"]\n",
    "\n",
    "plt.plot(range(len(train_loss)), train_loss, label=\"train loss\")\n",
    "plt.plot(range(len(valid_loss)), valid_loss, label=\"valid loss\")\n",
    "plt.legend()\n",
    "plt.title(\"Loss\")\n",
    "plt.show()\n",
    "\n",
    "plt.plot(range(len(train_acc)), train_acc, label=\"train accuracy\")\n",
    "plt.plot(range(len(valid_acc)), valid_acc, label=\"valid accuracy\")\n",
    "plt.legend()\n",
    "plt.title(\"Accuracy\")\n",
    "plt.show()"
   ]
  },
  {
   "cell_type": "code",
   "execution_count": null,
   "metadata": {},
   "outputs": [],
   "source": []
  }
 ],
 "metadata": {
  "kernelspec": {
   "display_name": "Python 3",
   "language": "python",
   "name": "python3"
  },
  "language_info": {
   "codemirror_mode": {
    "name": "ipython",
    "version": 3
   },
   "file_extension": ".py",
   "mimetype": "text/x-python",
   "name": "python",
   "nbconvert_exporter": "python",
   "pygments_lexer": "ipython3",
   "version": "3.6.8"
  }
 },
 "nbformat": 4,
 "nbformat_minor": 2
}
