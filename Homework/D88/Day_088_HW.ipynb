{
 "cells": [
  {
   "cell_type": "markdown",
   "metadata": {},
   "source": [
    "## Work\n",
    "1. 請嘗試寫一個 callback 用來記錄各類別在訓練過程中，對驗證集的 True Positive 與 True Negative"
   ]
  },
  {
   "cell_type": "code",
   "execution_count": 20,
   "metadata": {},
   "outputs": [],
   "source": [
    "import os\n",
    "import keras\n",
    "from sklearn.metrics import confusion_matrix\n",
    "\n",
    "# 防止調用 GPU 報錯：Blas GEMM launch failed\n",
    "import tensorflow as tf\n",
    "from keras.backend.tensorflow_backend import set_session\n",
    "config = tf.ConfigProto()\n",
    "config.gpu_options.allocator_type = 'BFC' #A \"Best-fit with coalescing\" algorithm, simplified from a version of dlmalloc.\n",
    "config.gpu_options.per_process_gpu_memory_fraction = 0.9 #佔用 GPU 多少比例的記憶體資源\n",
    "config.gpu_options.allow_growth = True\n",
    "set_session(tf.Session(config=config))\n",
    "\n",
    "# Disable GPU\n",
    "# os.environ[\"CUDA_VISIBLE_DEVICES\"] = \"\""
   ]
  },
  {
   "cell_type": "code",
   "execution_count": 2,
   "metadata": {},
   "outputs": [],
   "source": [
    "train, test = keras.datasets.cifar10.load_data()"
   ]
  },
  {
   "cell_type": "code",
   "execution_count": 3,
   "metadata": {},
   "outputs": [],
   "source": [
    "## 資料前處理\n",
    "def preproc_x(x, flatten=True):\n",
    "    x = x / 255.\n",
    "    if flatten:\n",
    "        x = x.reshape((len(x), -1))\n",
    "    return x\n",
    "\n",
    "def preproc_y(y, num_classes=10):\n",
    "    if y.shape[-1] == 1:\n",
    "        y = keras.utils.to_categorical(y, num_classes)\n",
    "    return y    "
   ]
  },
  {
   "cell_type": "code",
   "execution_count": 4,
   "metadata": {},
   "outputs": [],
   "source": [
    "x_train, y_train = train\n",
    "x_test, y_test = test\n",
    "\n",
    "# Preproc the inputs\n",
    "x_train = preproc_x(x_train)\n",
    "x_test = preproc_x(x_test)\n",
    "\n",
    "# Preprc the outputs\n",
    "y_train = preproc_y(y_train)\n",
    "y_test = preproc_y(y_test)"
   ]
  },
  {
   "cell_type": "code",
   "execution_count": 5,
   "metadata": {},
   "outputs": [],
   "source": [
    "from keras.layers import BatchNormalization\n",
    "def build_mlp(input_shape, output_units=10, num_neurons=[512, 256, 128]):\n",
    "    input_layer = keras.layers.Input(input_shape)\n",
    "    \n",
    "    for i, n_units in enumerate(num_neurons):\n",
    "        if i == 0:\n",
    "            x = keras.layers.Dense(units=n_units, \n",
    "                                   activation=\"relu\", \n",
    "                                   name=\"hidden_layer\"+str(i+1))(input_layer)\n",
    "            x = BatchNormalization()(x)\n",
    "        else:\n",
    "            x = keras.layers.Dense(units=n_units, \n",
    "                                   activation=\"relu\", \n",
    "                                   name=\"hidden_layer\"+str(i+1))(x)\n",
    "            x = BatchNormalization()(x)\n",
    "    \n",
    "    out = keras.layers.Dense(units=output_units, activation=\"softmax\", name=\"output\")(x)\n",
    "    \n",
    "    model = keras.models.Model(inputs=[input_layer], outputs=[out])\n",
    "    return model"
   ]
  },
  {
   "cell_type": "code",
   "execution_count": 6,
   "metadata": {},
   "outputs": [],
   "source": [
    "## 超參數設定\n",
    "LEARNING_RATE = 1e-3\n",
    "EPOCHS = 25\n",
    "BATCH_SIZE = 1024\n",
    "MOMENTUM = 0.95"
   ]
  },
  {
   "cell_type": "code",
   "execution_count": 21,
   "metadata": {},
   "outputs": [],
   "source": [
    "# 載入 Callbacks\n",
    "from keras.callbacks import Callback\n",
    "\n",
    "\n",
    "# Record_fp_tp\n",
    "class Record_tp_tn(Callback):\n",
    "    # Define a callback function to collect tp/tn, named Record_fp_tp.\n",
    "    def on_train_begin(self, epoch, logs = {}):\n",
    "        logs = logs or {}\n",
    "        record_items = [\"val_tp\", \"val_tn\"]\n",
    "        for i in record_items:\n",
    "            if i not in self.params['metrics']:\n",
    "                self.params['metrics'].append(i)\n",
    "        print(self.params['metrics'])\n",
    "    def on_epoch_end(self, epoch, logs = {}, thres=0.5):\n",
    "        logs = logs or {}\n",
    "        y_true = self.validation_data[1].argmax(axis = 1)\n",
    "        y_pred = self.model.predict(self.validation_data[0])\n",
    "        y_pred = (y_pred[:, 1] >= thres) * 1\n",
    "        \n",
    "        y_pred_pos = np.round(np.clip(y_pred, 0, 1))\n",
    "        y_pred_neg = 1 - y_pred_pos\n",
    "        y_pos = np.round(np.clip(y_true, 0, 1))\n",
    "        y_neg = 1 - y_pos\n",
    "                        \n",
    "        cm = confusion_matrix(y_true, y_pred)\n",
    "        logs['val_tp'] = cm[0][0]\n",
    "        logs['val_tn'] = cm[1][1]\n",
    "        \n",
    "rec_tptn = Record_tp_tn()"
   ]
  },
  {
   "cell_type": "code",
   "execution_count": 22,
   "metadata": {
    "scrolled": true
   },
   "outputs": [
    {
     "name": "stdout",
     "output_type": "stream",
     "text": [
      "_________________________________________________________________\n",
      "Layer (type)                 Output Shape              Param #   \n",
      "=================================================================\n",
      "input_6 (InputLayer)         (None, 3072)              0         \n",
      "_________________________________________________________________\n",
      "hidden_layer1 (Dense)        (None, 512)               1573376   \n",
      "_________________________________________________________________\n",
      "batch_normalization_16 (Batc (None, 512)               2048      \n",
      "_________________________________________________________________\n",
      "hidden_layer2 (Dense)        (None, 256)               131328    \n",
      "_________________________________________________________________\n",
      "batch_normalization_17 (Batc (None, 256)               1024      \n",
      "_________________________________________________________________\n",
      "hidden_layer3 (Dense)        (None, 128)               32896     \n",
      "_________________________________________________________________\n",
      "batch_normalization_18 (Batc (None, 128)               512       \n",
      "_________________________________________________________________\n",
      "output (Dense)               (None, 10)                1290      \n",
      "=================================================================\n",
      "Total params: 1,742,474\n",
      "Trainable params: 1,740,682\n",
      "Non-trainable params: 1,792\n",
      "_________________________________________________________________\n",
      "Train on 50000 samples, validate on 10000 samples\n",
      "['loss', 'acc', 'val_loss', 'val_acc', 'val_tp', 'val_tn']\n",
      "Epoch 1/25\n",
      "50000/50000 [==============================] - 4s 77us/step - loss: 2.1765 - acc: 0.2747 - val_loss: 2.0824 - val_acc: 0.3096\n",
      "Epoch 2/25\n",
      "50000/50000 [==============================] - 2s 48us/step - loss: 1.7400 - acc: 0.3907 - val_loss: 1.7837 - val_acc: 0.3833\n",
      "Epoch 3/25\n",
      "50000/50000 [==============================] - 2s 48us/step - loss: 1.6157 - acc: 0.4313 - val_loss: 1.6905 - val_acc: 0.4094\n",
      "Epoch 4/25\n",
      "50000/50000 [==============================] - 2s 48us/step - loss: 1.5415 - acc: 0.4597 - val_loss: 1.6209 - val_acc: 0.4384\n",
      "Epoch 5/25\n",
      "50000/50000 [==============================] - 2s 48us/step - loss: 1.4875 - acc: 0.4786 - val_loss: 1.5901 - val_acc: 0.4392\n",
      "Epoch 6/25\n",
      "50000/50000 [==============================] - 2s 48us/step - loss: 1.4441 - acc: 0.4933 - val_loss: 1.5547 - val_acc: 0.4590\n",
      "Epoch 7/25\n",
      "50000/50000 [==============================] - 2s 47us/step - loss: 1.4037 - acc: 0.5081 - val_loss: 1.5364 - val_acc: 0.4576\n",
      "Epoch 8/25\n",
      "50000/50000 [==============================] - 2s 47us/step - loss: 1.3674 - acc: 0.5210 - val_loss: 1.5203 - val_acc: 0.4677\n",
      "Epoch 9/25\n",
      "50000/50000 [==============================] - 2s 47us/step - loss: 1.3375 - acc: 0.5314 - val_loss: 1.5029 - val_acc: 0.4675\n",
      "Epoch 10/25\n",
      "50000/50000 [==============================] - 2s 47us/step - loss: 1.3079 - acc: 0.5436 - val_loss: 1.4962 - val_acc: 0.4767\n",
      "Epoch 11/25\n",
      "50000/50000 [==============================] - 2s 47us/step - loss: 1.2786 - acc: 0.5536 - val_loss: 1.4943 - val_acc: 0.4753\n",
      "Epoch 12/25\n",
      "50000/50000 [==============================] - 2s 47us/step - loss: 1.2525 - acc: 0.5625 - val_loss: 1.4823 - val_acc: 0.4786\n",
      "Epoch 13/25\n",
      "50000/50000 [==============================] - 2s 47us/step - loss: 1.2273 - acc: 0.5716 - val_loss: 1.4722 - val_acc: 0.4827\n",
      "Epoch 14/25\n",
      "50000/50000 [==============================] - 2s 47us/step - loss: 1.2015 - acc: 0.5823 - val_loss: 1.4722 - val_acc: 0.4863\n",
      "Epoch 15/25\n",
      "50000/50000 [==============================] - 2s 47us/step - loss: 1.1778 - acc: 0.5916 - val_loss: 1.4619 - val_acc: 0.4877\n",
      "Epoch 16/25\n",
      "50000/50000 [==============================] - 2s 47us/step - loss: 1.1566 - acc: 0.5989 - val_loss: 1.4600 - val_acc: 0.4868\n",
      "Epoch 17/25\n",
      "50000/50000 [==============================] - 2s 47us/step - loss: 1.1326 - acc: 0.6080 - val_loss: 1.4647 - val_acc: 0.4879\n",
      "Epoch 18/25\n",
      "50000/50000 [==============================] - 2s 48us/step - loss: 1.1113 - acc: 0.6156 - val_loss: 1.4555 - val_acc: 0.4931\n",
      "Epoch 19/25\n",
      "50000/50000 [==============================] - 2s 48us/step - loss: 1.0885 - acc: 0.6251 - val_loss: 1.4647 - val_acc: 0.4861\n",
      "Epoch 20/25\n",
      "50000/50000 [==============================] - 2s 48us/step - loss: 1.0690 - acc: 0.6319 - val_loss: 1.4569 - val_acc: 0.4911\n",
      "Epoch 21/25\n",
      "50000/50000 [==============================] - 2s 48us/step - loss: 1.0462 - acc: 0.6409 - val_loss: 1.4500 - val_acc: 0.4923\n",
      "Epoch 22/25\n",
      "50000/50000 [==============================] - 2s 48us/step - loss: 1.0254 - acc: 0.6492 - val_loss: 1.4616 - val_acc: 0.4959\n",
      "Epoch 23/25\n",
      "50000/50000 [==============================] - 2s 47us/step - loss: 1.0036 - acc: 0.6593 - val_loss: 1.4674 - val_acc: 0.4939\n",
      "Epoch 24/25\n",
      "50000/50000 [==============================] - 3s 50us/step - loss: 0.9857 - acc: 0.6658 - val_loss: 1.4561 - val_acc: 0.5012\n",
      "Epoch 25/25\n",
      "50000/50000 [==============================] - 2s 49us/step - loss: 0.9638 - acc: 0.6745 - val_loss: 1.4561 - val_acc: 0.4950\n"
     ]
    }
   ],
   "source": [
    "model = build_mlp(input_shape=x_train.shape[1:])\n",
    "model.summary()\n",
    "optimizer = keras.optimizers.SGD(lr=LEARNING_RATE, nesterov=True, momentum=MOMENTUM)\n",
    "model.compile(loss=\"categorical_crossentropy\", metrics=[\"accuracy\"], optimizer=optimizer)\n",
    "\n",
    "model.fit(x_train, y_train, \n",
    "          epochs=EPOCHS, \n",
    "          batch_size=BATCH_SIZE, \n",
    "          validation_data=(x_test, y_test), \n",
    "          shuffle=True,\n",
    "          callbacks=[rec_tptn]\n",
    "         )\n",
    "\n",
    "# Collect results\n",
    "train_loss = model.history.history[\"loss\"]\n",
    "valid_loss = model.history.history[\"val_loss\"]\n",
    "train_acc = model.history.history[\"acc\"]\n",
    "valid_acc = model.history.history[\"val_acc\"]\n",
    "\n",
    "# Collect tp/tn from model history\n",
    "valid_tp = model.history.history['val_tp']\n",
    "valid_tn = model.history.history['val_tn']"
   ]
  },
  {
   "cell_type": "code",
   "execution_count": 23,
   "metadata": {},
   "outputs": [
    {
     "data": {
      "image/png": "[encoded data removed]",
      "text/plain": [
       "<Figure size 432x288 with 1 Axes>"
      ]
     },
     "metadata": {
      "needs_background": "light"
     },
     "output_type": "display_data"
    },
    {
     "data": {
      "image/png": "[encoded data removed]",
      "text/plain": [
       "<Figure size 432x288 with 1 Axes>"
      ]
     },
     "metadata": {
      "needs_background": "light"
     },
     "output_type": "display_data"
    },
    {
     "data": {
      "image/png": "[encoded data removed]",
      "text/plain": [
       "<Figure size 432x288 with 1 Axes>"
      ]
     },
     "metadata": {
      "needs_background": "light"
     },
     "output_type": "display_data"
    }
   ],
   "source": [
    "import matplotlib.pyplot as plt\n",
    "%matplotlib inline\n",
    "\n",
    "plt.plot(range(len(train_loss)), train_loss, label=\"train loss\")\n",
    "plt.plot(range(len(valid_loss)), valid_loss, label=\"valid loss\")\n",
    "plt.legend()\n",
    "plt.title(\"Loss\")\n",
    "plt.show()\n",
    "\n",
    "plt.plot(range(len(train_acc)), train_acc, label=\"train accuracy\")\n",
    "plt.plot(range(len(valid_acc)), valid_acc, label=\"valid accuracy\")\n",
    "plt.legend()\n",
    "plt.title(\"Accuracy\")\n",
    "plt.show()\n",
    "\n",
    "plt.plot(range(len(valid_tp)), valid_tp, label=\"valid tp\", color=\"navy\")\n",
    "plt.plot(range(len(valid_tn)), valid_tn, label=\"valid tn\", color=\"red\")\n",
    "plt.legend()\n",
    "plt.title(\"True positives and True Negatives\")\n",
    "plt.show()"
   ]
  },
  {
   "cell_type": "code",
   "execution_count": null,
   "metadata": {},
   "outputs": [],
   "source": []
  }
 ],
 "metadata": {
  "kernelspec": {
   "display_name": "Python 3",
   "language": "python",
   "name": "python3"
  },
  "language_info": {
   "codemirror_mode": {
    "name": "ipython",
    "version": 3
   },
   "file_extension": ".py",
   "mimetype": "text/x-python",
   "name": "python",
   "nbconvert_exporter": "python",
   "pygments_lexer": "ipython3",
   "version": "3.6.8"
  }
 },
 "nbformat": 4,
 "nbformat_minor": 2
}
