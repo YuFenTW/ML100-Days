{
 "cells": [
  {
   "cell_type": "markdown",
   "metadata": {},
   "source": [
    "請閱讀以下文獻，理解 CNN 原理後回答問題\n",
    "- [卷積神經網路原理 - 中文](https://brohrer.mcknote.com/zh-Hant/how_machine_learning_works/how_convolutional_neural_networks_work.html)\n",
    "- [CNN for beginner’s guide](https://adeshpande3.github.io/A-Beginner%27s-Guide-To-Understanding-Convolutional-Neural-Networks/)\n",
    "\n",
    "1. 若使用總共 128 個濾波器 (filters)，對一張 256x256 的影像做完卷積後，共會得到幾張特徵圖 (feature maps)？\n",
    "2. 卷積神經網路中，濾波器的大小 (3x3 or 5x5) 與內部數字的值 (value) 是怎麼決定的呢？\n"
   ]
  },
  {
   "cell_type": "markdown",
   "metadata": {},
   "source": [
    "### 作業 1 : 若使用總共 128 個濾波器 (filters)，對一張 256x256 的影像做完卷積後，共會得到幾張特徵圖 (feature maps)？\n",
    "\n",
    "### 回答 :每個 filter 會輸出 1 張 feature map ==> 所以會產生 128 張特徵圖 (feature maps)"
   ]
  },
  {
   "cell_type": "markdown",
   "metadata": {},
   "source": [
    "### 作業 2 : 卷積神經網路中，濾波器的大小 (3x3 or 5x5) 與內部數字的值 (value) 是怎麼決定的呢？\n",
    "\n",
    "### 回答 1) 濾波器的大小\n",
    "濾波器大小必須大於 1 才有提升感受性的作用，所以 1 被排除了。而大小為偶數的濾波器即使對稱地加 padding 也不能保證輸入feature map 尺寸和輸出 feature map 尺寸不變（畫個圖算一下就可以發現），所以 2 也被排除了。<font color='red'>故一般都用 3 作為濾波器大小。</font>\n",
    "\n",
    "濾波器一般不能過大，尤其是網絡深層會使得信息損失大，而濾波器過小則 size 降不下來，計算量過大。<font color='red'>濾波器尺寸一般為 3 效果最好（有專門paper研究過） ，淺層可以稍大。</font>\n",
    "\n",
    "### 回答2) 內部數字的值 (value) 是怎麼決定的\n",
    "Filter 裡面的值和 neural network 的其他參數一樣，是<font color='red'>透過學習過程得到的。</font>"
   ]
  },
  {
   "cell_type": "code",
   "execution_count": null,
   "metadata": {},
   "outputs": [],
   "source": []
  }
 ],
 "metadata": {
  "kernelspec": {
   "display_name": "Python 3",
   "language": "python",
   "name": "python3"
  },
  "language_info": {
   "codemirror_mode": {
    "name": "ipython",
    "version": 3
   },
   "file_extension": ".py",
   "mimetype": "text/x-python",
   "name": "python",
   "nbconvert_exporter": "python",
   "pygments_lexer": "ipython3",
   "version": "3.6.8"
  }
 },
 "nbformat": 4,
 "nbformat_minor": 2
}
