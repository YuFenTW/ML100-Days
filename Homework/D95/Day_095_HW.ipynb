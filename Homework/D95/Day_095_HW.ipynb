{
 "cells": [
  {
   "cell_type": "markdown",
   "metadata": {},
   "source": [
    "# 教學目標:\n",
    "    了解 Padding 的作法\n",
    "    \n",
    "    了解 Pooling 的作法"
   ]
  },
  {
   "cell_type": "markdown",
   "metadata": {},
   "source": [
    "# 範例說明:\n",
    "    (1)zero_pad - feature map 跟原圖的比對\n",
    "    \n",
    "    (2)pool_forward - 前行網路的 pooling layer"
   ]
  },
  {
   "cell_type": "markdown",
   "metadata": {},
   "source": [
    "# 作業:\n",
    "    (1) 調整Padding 的設定, 看 Pad 後的結果\n",
    "    \n",
    "    (2) 調整Pooling 的設定, 看 Poolin 後的結果"
   ]
  },
  {
   "cell_type": "code",
   "execution_count": 1,
   "metadata": {},
   "outputs": [],
   "source": [
    "import numpy as np\n",
    "import h5py\n",
    "import matplotlib.pyplot as plt\n",
    "\n",
    "# 繪圖結果直接顯示在Jupyter cell 之內\n",
    "%matplotlib inline  \n",
    "plt.rcParams['figure.figsize'] = (5.0, 4.0) #  設定繪圖板的大小\n",
    "plt.rcParams['image.interpolation'] = 'nearest'\n",
    "plt.rcParams['image.cmap'] = 'gray'\n",
    "\n",
    "# autoreload。可以讓我們不退出IPython就動態修改代碼，在執行代碼前IPython會幫我們自動重載改動的模塊\n",
    "%load_ext autoreload\n",
    "%autoreload 2\n",
    "np.random.seed(1)"
   ]
  },
  {
   "cell_type": "code",
   "execution_count": 2,
   "metadata": {},
   "outputs": [],
   "source": [
    "# GRADED FUNCTION: zero_pad\n",
    "def zero_pad(X, pad):\n",
    "    \"\"\"\n",
    "    對image X 做 zero-padding. \n",
    "    參數定義如下:\n",
    "    X -- python numpy array, 呈現維度 (m, n_H, n_W, n_C), 代表一批 m 個圖像\n",
    "         n_H: 圖高, n_W: 圖寬, n_C: color channels 數\n",
    "    pad -- 整數, 加幾圈的 zero padding.\n",
    "    Returns:\n",
    "    X_pad -- image of shape (m, n_H + 2*pad, n_W + 2*pad, n_C) 做完zero-padding 的結果\n",
    "    \"\"\"\n",
    "    \n",
    "    X_pad = np.pad(X, ((0, 0), (pad, pad), (pad, pad), (0, 0)), 'constant', constant_values=(0, 0))\n",
    "  \n",
    "    return X_pad"
   ]
  },
  {
   "cell_type": "code",
   "execution_count": 3,
   "metadata": {},
   "outputs": [
    {
     "name": "stdout",
     "output_type": "stream",
     "text": [
      "x.shape = (4, 6, 6, 2)\n",
      "x_pad.shape = (4, 14, 14, 2)\n",
      "x[1,1] = [[ 0.19829972  0.11900865]\n",
      " [-0.67066229  0.37756379]\n",
      " [ 0.12182127  1.12948391]\n",
      " [ 1.19891788  0.18515642]\n",
      " [-0.37528495 -0.63873041]\n",
      " [ 0.42349435  0.07734007]]\n",
      "x_pad[1,1] = [[0. 0.]\n",
      " [0. 0.]\n",
      " [0. 0.]\n",
      " [0. 0.]\n",
      " [0. 0.]\n",
      " [0. 0.]\n",
      " [0. 0.]\n",
      " [0. 0.]\n",
      " [0. 0.]\n",
      " [0. 0.]\n",
      " [0. 0.]\n",
      " [0. 0.]\n",
      " [0. 0.]\n",
      " [0. 0.]]\n"
     ]
    },
    {
     "data": {
      "text/plain": [
       "<matplotlib.image.AxesImage at 0x2127ab956d8>"
      ]
     },
     "execution_count": 3,
     "metadata": {},
     "output_type": "execute_result"
    },
    {
     "data": {
      "image/png": "[encoded data removed]",
      "text/plain": [
       "<Figure size 432x288 with 2 Axes>"
      ]
     },
     "metadata": {
      "needs_background": "light"
     },
     "output_type": "display_data"
    }
   ],
   "source": [
    "\"\"\"\n",
    "作業修改\n",
    "\n",
    "x = \n",
    "x_pad = \n",
    "\"\"\"\n",
    "\n",
    "np.random.seed(1)\n",
    "x = np.random.randn(4, 6, 6, 2) #產生gray image\n",
    "x_pad = zero_pad(x, 4) # 加兩圈 Pad\n",
    "\n",
    "print (\"x.shape =\", x.shape)\n",
    "print (\"x_pad.shape =\", x_pad.shape)\n",
    "print (\"x[1,1] =\", x[1,1])\n",
    "print (\"x_pad[1,1] =\", x_pad[1,1])\n",
    "fig, axarr = plt.subplots(1, 2)\n",
    "axarr[0].set_title('x')\n",
    "axarr[0].imshow(x[0,:,:,0])\n",
    "axarr[1].set_title('x_pad')\n",
    "axarr[1].imshow(x_pad[0,:,:,0])"
   ]
  },
  {
   "cell_type": "code",
   "execution_count": 4,
   "metadata": {},
   "outputs": [],
   "source": [
    "# GRADED FUNCTION: pool_forward\n",
    "def pool_forward(A_prev, hparameters, mode = \"max\"):\n",
    "    \"\"\"\n",
    "    設計一個前行網路的池化層\n",
    "    參數定義如下:\n",
    "    A_prev -- 輸入的numpy 陣列, 維度 (m, n_H_prev, n_W_prev, n_C_prev)\n",
    "    hparameter 超參數 --  \"f\" and \"stride\" 所形成的python 字典\n",
    "    mode -- 池化的模式: \"max\" or \"average\"\n",
    "    \n",
    "    返回:\n",
    "        A -- 輸出的池化層, 維度為 (m, n_H, n_W, n_C) 的 numpy 陣列\n",
    "        cache -- 可以應用在 backward pass pooling layer 資料, 包含 input and hparameter\n",
    "    \"\"\"\n",
    "\n",
    "    # 檢索尺寸 from the input shape\n",
    "    (m, n_H_prev, n_W_prev, n_C_prev) = A_prev.shape\n",
    " \n",
    "    # 檢索超參數 from \"hparameters\"\n",
    "    f = hparameters[\"f\"]\n",
    "    stride = hparameters[\"stride\"]\n",
    "\n",
    "    # 定義輸出的dimensions\n",
    "    n_H = int(1 + (n_H_prev - f) / stride)\n",
    "    n_W = int(1 + (n_W_prev - f) / stride)\n",
    "    n_C = n_C_prev\n",
    "\n",
    "    # 初始化輸出的 matrix A\n",
    "    A = np.zeros((m, n_H, n_W, n_C))\n",
    "\n",
    "    ### 程式起始位置  ###\n",
    "    for i in range(m): # 訓練樣本的for 迴圈\n",
    "        for h in range(n_H): # 輸出樣本的for 迴圈, 針對vertical axis\n",
    "            for w in range(n_W): #  輸出樣本的for 迴圈, 針對 horizontal axis\n",
    "                for c in range (n_C): #  輸出樣本的for 迴圈, 針對channels\n",
    "\n",
    "                     # 找出特徵圖的寬度跟高度四個點\n",
    "                    vert_start = h * stride\n",
    "                    vert_end = h * stride+ f\n",
    "                    horiz_start = w * stride\n",
    "                    horiz_end = w * stride + f\n",
    "\n",
    "                    # 定義第i個訓練示例\n",
    "                    a_prev_slice = A_prev[i, vert_start:vert_end, horiz_start:horiz_end,c]\n",
    "\n",
    "                    # 計算輸入data 的池化結果. 使用 if statment 去做分類\n",
    "                    if mode == \"max\":\n",
    "                        A[i, h, w, c] = np.max(a_prev_slice)\n",
    "                    elif mode == \"average\":\n",
    "                        A[i, h, w, c] = np.mean(a_prev_slice)\n",
    "\n",
    "                        ### 程式結束  ###\n",
    "    \n",
    "    # 儲存輸入的特徵圖跟所設定的超參數, 可以用在 pool_backward()\n",
    "    cache = (A_prev, hparameters)\n",
    "    \n",
    "    # 確認輸出的資料維度\n",
    "    assert(A.shape == (m, n_H, n_W, n_C))\n",
    "    return A, cache"
   ]
  },
  {
   "cell_type": "code",
   "execution_count": 5,
   "metadata": {},
   "outputs": [
    {
     "name": "stdout",
     "output_type": "stream",
     "text": [
      "mode = max\n",
      "A = [[[[1.74481176 1.51981682 2.18557541]\n",
      "   [1.74481176 1.6924546  2.18557541]\n",
      "   [1.14472371 1.6924546  2.10025514]\n",
      "   [1.14472371 1.12141771 1.12948391]]\n",
      "\n",
      "  [[2.18697965 1.51981682 2.18557541]\n",
      "   [1.62765075 1.51981682 2.18557541]\n",
      "   [2.19069973 2.52832571 0.82797464]\n",
      "   [2.19069973 2.52832571 1.33145711]]\n",
      "\n",
      "  [[2.18697965 1.6169496  1.40754   ]\n",
      "   [2.44936865 1.6169496  1.40754   ]\n",
      "   [2.44936865 2.52832571 1.95487808]\n",
      "   [2.19069973 2.52832571 1.9560789 ]]\n",
      "\n",
      "  [[1.39984394 1.6169496  1.81053491]\n",
      "   [2.44936865 2.05117344 1.81053491]\n",
      "   [2.44936865 2.05117344 1.95487808]\n",
      "   [0.82400562 1.20205486 1.9560789 ]]]\n",
      "\n",
      "\n",
      " [[[2.11060505 1.76795995 1.62284909]\n",
      "   [2.11060505 2.13782807 3.03085711]\n",
      "   [2.05635552 2.13782807 3.03085711]\n",
      "   [2.05635552 1.76024923 1.15528789]]\n",
      "\n",
      "  [[2.11060505 2.0546241  1.1157018 ]\n",
      "   [2.11060505 2.13782807 1.83471763]\n",
      "   [2.05635552 2.13782807 1.86647138]\n",
      "   [2.05635552 1.78975468 1.86647138]]\n",
      "\n",
      "  [[1.69380911 2.0546241  1.1157018 ]\n",
      "   [1.19783084 1.76041518 1.7653351 ]\n",
      "   [1.04499441 1.78975468 1.86647138]\n",
      "   [1.00088142 1.78975468 1.86647138]]\n",
      "\n",
      "  [[1.85300949 1.70459417 1.30970591]\n",
      "   [1.19783084 1.76041518 1.47016034]\n",
      "   [1.03298378 1.76041518 1.71066184]\n",
      "   [0.98635218 3.9586027  1.71066184]]]]\n",
      "\n",
      "mode = average\n",
      "A = [[[[-1.67691465e-02  1.21958820e-01 -1.29590407e-01]\n",
      "   [-1.80391617e-01  2.27914993e-01  1.76166191e-01]\n",
      "   [-1.91414273e-01  3.76089126e-01 -7.43897462e-02]\n",
      "   [ 6.44409755e-02  1.72312338e-01  1.67755920e-02]]\n",
      "\n",
      "  [[ 2.90555523e-01 -1.92716605e-01  1.93175805e-01]\n",
      "   [-1.09183683e-01  1.78626363e-01 -6.53113644e-02]\n",
      "   [ 5.01122748e-02  4.39979610e-01 -1.82775719e-01]\n",
      "   [ 2.55338949e-01  2.65542599e-01  1.40272090e-02]]\n",
      "\n",
      "  [[ 3.37602257e-01 -3.06189622e-01  3.18891661e-01]\n",
      "   [ 3.11284153e-01  3.21363981e-01 -1.27754351e-02]\n",
      "   [ 4.64662027e-01  3.45312070e-01  2.04692399e-01]\n",
      "   [ 1.76510695e-01 -1.54749275e-01  3.11075957e-01]]\n",
      "\n",
      "  [[-3.45240305e-02 -3.98375871e-02  3.68020508e-01]\n",
      "   [ 7.92601433e-02  5.28058452e-01  2.68695417e-01]\n",
      "   [-2.36743558e-02  4.94046141e-01  2.06502280e-01]\n",
      "   [-1.90312987e-01 -2.41268727e-01  1.84757068e-01]]]\n",
      "\n",
      "\n",
      " [[[-2.06149537e-01 -1.74986977e-01 -1.16411917e-01]\n",
      "   [-6.23817755e-04 -2.56769045e-01  1.46737372e-01]\n",
      "   [ 2.68547815e-01  6.55051607e-02  2.12970037e-01]\n",
      "   [ 4.45493155e-02 -1.73054964e-01 -1.66998938e-01]]\n",
      "\n",
      "  [[-2.89695292e-01  3.82735280e-01 -1.11290462e-01]\n",
      "   [ 1.46956495e-01  6.42188104e-02  2.08568259e-01]\n",
      "   [ 2.66469410e-01  2.62512915e-01  5.11278311e-01]\n",
      "   [-8.39009489e-02 -4.05744365e-02 -6.58615143e-02]]\n",
      "\n",
      "  [[-1.41279144e-01  7.91085778e-01 -3.07919557e-02]\n",
      "   [-2.63236308e-02  6.87867075e-01  7.75802798e-02]\n",
      "   [-1.09358922e-03  3.58269745e-01  3.03762934e-01]\n",
      "   [-2.06661404e-01 -1.47219074e-01  2.14729976e-01]]\n",
      "\n",
      "  [[ 2.70158087e-01  2.71665333e-01 -1.77805084e-01]\n",
      "   [ 7.00952455e-02  5.81870123e-01 -9.01826554e-02]\n",
      "   [-1.18513571e-01  2.57371714e-01  4.80044935e-02]\n",
      "   [-2.32369247e-01  6.54007435e-02  3.95266339e-01]]]]\n"
     ]
    }
   ],
   "source": [
    "\"\"\"\n",
    "作業修改\n",
    "A_prev = \n",
    "hparameters = \n",
    "\"\"\"\n",
    "np.random.seed(1)\n",
    "A_prev = np.random.randn(2, 10, 10, 3)\n",
    "hparameters = {\"stride\" : 2, \"f\": 4}\n",
    "\n",
    "A, cache = pool_forward(A_prev, hparameters)\n",
    "print(\"mode = max\")\n",
    "print(\"A =\", A)\n",
    "print()\n",
    "A, cache = pool_forward(A_prev, hparameters, mode = \"average\")\n",
    "print(\"mode = average\")\n",
    "print(\"A =\", A)"
   ]
  },
  {
   "cell_type": "code",
   "execution_count": null,
   "metadata": {},
   "outputs": [],
   "source": []
  }
 ],
 "metadata": {
  "kernelspec": {
   "display_name": "Python 3",
   "language": "python",
   "name": "python3"
  },
  "language_info": {
   "codemirror_mode": {
    "name": "ipython",
    "version": 3
   },
   "file_extension": ".py",
   "mimetype": "text/x-python",
   "name": "python",
   "nbconvert_exporter": "python",
   "pygments_lexer": "ipython3",
   "version": "3.6.8"
  }
 },
 "nbformat": 4,
 "nbformat_minor": 2
}
